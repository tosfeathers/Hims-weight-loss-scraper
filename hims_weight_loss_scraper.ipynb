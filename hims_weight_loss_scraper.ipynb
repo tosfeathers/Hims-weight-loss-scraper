{
 "cells": [
  {
   "cell_type": "code",
   "execution_count": 166,
   "id": "dd55e6ef-5782-4de7-9e5d-a42ed5296119",
   "metadata": {},
   "outputs": [],
   "source": [
    "import os\n",
    "import random\n",
    "import time\n",
    "from bs4 import BeautifulSoup\n",
    "import asyncio\n",
    "import pandas as pd\n",
    "import regex as re\n",
    "import string\n",
    "import json\n",
    "\n",
    "from playwright.async_api import async_playwright, expect"
   ]
  },
  {
   "cell_type": "markdown",
   "id": "322ed74b-f480-443d-93d6-e029b9dc60d6",
   "metadata": {},
   "source": [
    "## Defining functions for each page of the intake form"
   ]
  },
  {
   "cell_type": "code",
   "execution_count": 2,
   "id": "0cd2bfc7-3fc7-44c0-bdda-d88dc8786a24",
   "metadata": {},
   "outputs": [],
   "source": [
    "async def open_browser(headless=False):\n",
    "    \"\"\"\n",
    "    Starts the automated browser and opens a new window\n",
    "    \"\"\"\n",
    "    # Start playwright\n",
    "    playwright = await async_playwright().start()\n",
    "\n",
    "    # Open firefox browser, can use chromium (chrome) or others\n",
    "    browser = await playwright.firefox.launch(headless=False)\n",
    "  \n",
    "    # Create a new browser window\n",
    "    page = await browser.new_page()\n",
    "\n",
    "    return browser, page"
   ]
  },
  {
   "cell_type": "code",
   "execution_count": 3,
   "id": "13f9cc69-76ae-4288-814f-f50a5ba89428",
   "metadata": {},
   "outputs": [],
   "source": [
    "## driver, page = await open_browser()"
   ]
  },
  {
   "cell_type": "code",
   "execution_count": 4,
   "id": "edec084a-8b7a-4d40-9126-26958540d833",
   "metadata": {},
   "outputs": [],
   "source": [
    "# url = 'https://www.hims.com/c/wm/introduction'\n",
    "# await page.goto(url)"
   ]
  },
  {
   "cell_type": "code",
   "execution_count": 5,
   "id": "0f4fd279-18f5-4c53-b443-e76eed75a793",
   "metadata": {},
   "outputs": [],
   "source": [
    "## Page 1 - \"https://www.hims.com/c/wm/introduction\" - \"Explore weight loss plans\" - click continue\n",
    "\n",
    "async def click_continue():\n",
    "    await expect(page.locator('button:text(\"Continue\")')).to_be_enabled()\n",
    "    await page.locator('button:text(\"Continue\")').click()\n",
    "    await asyncio.sleep(4)\n"
   ]
  },
  {
   "cell_type": "code",
   "execution_count": 6,
   "id": "78645dc7-7a9f-4986-8642-28ef3c5f49ee",
   "metadata": {},
   "outputs": [],
   "source": [
    "## Page 2 - \"https://www.hims.com/c/wm/your-goal\" - \"What's your weight loss goal?\" - selecting goal\n",
    "\n",
    "async def loss_goal(goal):\n",
    "\n",
    "    if goal in range(1, 15):\n",
    "        goal_path = '//*[@id=\"your-goals-losing-1-15-label\"]'\n",
    "    elif goal in range(16, 50):\n",
    "        goal_path = '//*[@id=\"your-goals-losing-16-50-label\"]'\n",
    "    elif goal in range(51, 300):\n",
    "        goal_path = '//*[@id=\"your-goals-losing-51-plus-label\"]'\n",
    "    else:\n",
    "        goal_path = '//*[@id=\"your-goals-not-sure-label\"]'\n",
    "\n",
    "    await expect(page.locator(goal_path)).to_be_enabled()\n",
    "    await page.locator(goal_path).click()\n",
    "    await asyncio.sleep(4.2)\n",
    "\n",
    "    return print(f\"Chose weight loss goal: {goal} lbs\")    "
   ]
  },
  {
   "cell_type": "code",
   "execution_count": 7,
   "id": "a6a691b1-37f8-40ca-ac9f-1557daaeafdb",
   "metadata": {},
   "outputs": [],
   "source": [
    "## await loss_goal(14)"
   ]
  },
  {
   "cell_type": "code",
   "execution_count": 8,
   "id": "1157be9f-742e-4779-b86c-3c3392ce77b1",
   "metadata": {},
   "outputs": [],
   "source": [
    "## Page 3 \"Your goal to lose ___ is closer than you think\" - click next\n",
    "\n",
    "async def click_next():\n",
    "    await expect(page.locator('button:text(\"Next\")')).to_be_enabled()\n",
    "    await page.locator('button:text(\"Next\")').click()\n",
    "    await asyncio.sleep(4.5)"
   ]
  },
  {
   "cell_type": "code",
   "execution_count": 9,
   "id": "240e644f-7a5d-43b1-bc29-2949730cf7a5",
   "metadata": {},
   "outputs": [],
   "source": [
    "## Page 4 \"Lose up to 20% of your weight\" - click next\n",
    "\n",
    "# async def click_next():\n",
    "#     await expect(page.locator('button:text(\"Next\")')).to_be_enabled()\n",
    "#     await page.locator('button:text(\"Next\")').click()\n",
    "#     await asyncio.sleep(4.5)"
   ]
  },
  {
   "cell_type": "code",
   "execution_count": 10,
   "id": "211c4074-cf6d-4d4e-acfc-535c0d8bd96c",
   "metadata": {},
   "outputs": [],
   "source": [
    "## Page 5 \"Select the state you live in\"  - Creating function to select the proper state from the dropdown menu and proceed to next page\n",
    "\n",
    "async def key_down(state):\n",
    "  \n",
    "    state_list = ['AA', 'AE', 'Alabama', 'Alaska', 'AP', 'Arizona', 'Arkansas', 'California', 'Colorado', 'Connecticut', 'Delaware', 'District of Columbia', 'Florida', 'Georgia', 'Hawaii', 'Idaho', 'Illinois', 'Indiana', 'Iowa', 'Kansas', 'Kentucky', 'Louisiana', 'Maine', 'Maryland', 'Massachusetts', 'Michigan', 'Minnesota', 'Mississippi', 'Missouri', 'Montana', 'Nebraska', 'Nevada', 'New Hampshire', 'New Jersey', 'New Mexico', 'New York', 'North Carolina', 'North Dakota', 'Ohio', 'Oklahoma', 'Oregon', 'Pennsylvania', 'Rhode Island', 'South Carolina', 'South Dakota', 'Tennessee', 'Texas', 'Utah', 'Vermont', 'Virginia', 'Washington', 'West Virginia', 'Wisconsin', 'Wyomin']\n",
    "    if state in state_list:        \n",
    "        times = state_list.index(state)\n",
    "        count = 0\n",
    "        while count <= times:\n",
    "            await page.keyboard.press(\"ArrowDown\")\n",
    "            count = count + 1\n",
    "        await page.keyboard.press(\"Enter\")\n",
    "\n",
    "    else:\n",
    "        print('State name entry error')\n",
    "\n",
    "async def select_state(state):\n",
    "    ## opening the dropdown menu of states\n",
    "    xpath_state_menu = '//*[@id=\"state-select\"]'\n",
    "    await page.locator(xpath_state_menu).click(delay=4000)\n",
    "    ## selecting the desired state from the dropdown menu (see above function)\n",
    "    await key_down(state)\n",
    "    await asyncio.sleep(1)\n",
    "    ## checking the terms and conditions box\n",
    "    xpath_terms = '//*[@id=\"termsAndConditions\"]'\n",
    "    await page.locator(xpath_terms).click()\n",
    "    await asyncio.sleep(1.6)\n",
    "    ## clicking the continue button\n",
    "    await expect(page.locator('button:text(\"Continue\")')).to_be_enabled()\n",
    "    await page.locator('button:text(\"Continue\")').click()\n",
    "    await asyncio.sleep(3)\n",
    "    \n",
    "    return print(f'Selected state: {state}')\n",
    "\n"
   ]
  },
  {
   "cell_type": "code",
   "execution_count": 11,
   "id": "957f8840-d242-4e89-9865-5eb851517bc5",
   "metadata": {},
   "outputs": [],
   "source": [
    "## await select_state('Minnesota')"
   ]
  },
  {
   "cell_type": "code",
   "execution_count": 12,
   "id": "6f0b135b-deef-45eb-836c-fc96013cb607",
   "metadata": {},
   "outputs": [],
   "source": [
    "## Page 6 \"To verify eligibility, tell us your date of birth\" - Entering birthdate (must be in MM-DD-YYYY format)\n",
    "\n",
    "async def fill_birthday(dob):\n",
    "    xpath_bd_form = page.locator('//*[@id=\"dob\"]')\n",
    "    await xpath_bd_form.fill(dob)\n",
    "    await asyncio.sleep(1.4)\n",
    "    await expect(page.locator('button:text(\"Continue\")')).to_be_enabled()\n",
    "    await page.locator('button:text(\"Continue\")').click()\n",
    "    await asyncio.sleep(2)\n",
    "\n",
    "    return print(f'Entered birthday: {dob}')\n",
    "    \n",
    "    "
   ]
  },
  {
   "cell_type": "code",
   "execution_count": 13,
   "id": "09b9804f-4861-4533-8a55-313fbc985aad",
   "metadata": {},
   "outputs": [],
   "source": [
    "## await fill_birthday('01-01-1993')"
   ]
  },
  {
   "cell_type": "code",
   "execution_count": 14,
   "id": "907c3438-965c-4f59-a572-7cd2901ac270",
   "metadata": {},
   "outputs": [],
   "source": [
    "## Page 7 \"Nice! Looks like you're good to go on our end\" - click next\n",
    "\n",
    "# async def click_next():\n",
    "#     await expect(page.locator('button:text(\"Next\")')).to_be_enabled()\n",
    "#     await page.locator('button:text(\"Next\")').click()\n",
    "#     await asyncio.sleep(4.5)"
   ]
  },
  {
   "cell_type": "code",
   "execution_count": 15,
   "id": "5d96ff7a-d73c-4e6d-8eff-6695113913fa",
   "metadata": {},
   "outputs": [],
   "source": [
    "## Page 8 \"How many different weight loss programs have you tried in the past?\" - select number of programs\n",
    "\n",
    "async def weight_programs(diet_number):\n",
    "\n",
    "    if diet_number == \"None, this is my first time trying\":\n",
    "        try:\n",
    "            await page.locator('label:has-text(\"this is my first time trying\")').click();\n",
    "        except:\n",
    "            await page.locator('label:has-text(\"This is my first time exploring options\")').click();\n",
    "    elif diet_number == \"1-5\":\n",
    "        try:\n",
    "            await page.locator('label:has-text(\"1-5\")').click();\n",
    "        except:\n",
    "            await page.locator('label:has-text(\"tried a few things, ready to step it up\")').click();\n",
    "    elif diet_number == \"6-10\":\n",
    "        try:\n",
    "            await page.locator('label:has-text(\"6-10\")').click();\n",
    "        except:\n",
    "            await page.locator('label:has-text(\"tried a few things, ready to step it up\")').click();\n",
    "    elif diet_number == \"More than I can remember\":\n",
    "        try:\n",
    "            await page.locator('label:has-text(\"More than I can remember\")').click();\n",
    "        except:\n",
    "            await page.locator('label:has-text(\"tried everything, nothing has worked\")').click();\n",
    "\n",
    "    await asyncio.sleep(2.4)\n",
    "\n",
    "    return print(f\"experience with weight programs: {diet_number}\") "
   ]
  },
  {
   "cell_type": "code",
   "execution_count": 16,
   "id": "04151a54-d13d-4452-b961-52ac673b2339",
   "metadata": {},
   "outputs": [],
   "source": [
    "## await weight_programs(3)"
   ]
  },
  {
   "cell_type": "code",
   "execution_count": 17,
   "id": "e5b2c1f3-5d45-4902-ae72-be4af120b9d6",
   "metadata": {},
   "outputs": [],
   "source": [
    "## Page 9 \"Do you hae any family members who struggle with their weight? - click yes, no, or not sure\n",
    "\n",
    "async def family_struggles(answer):\n",
    "\n",
    "    if answer == 'Yes':\n",
    "        family_path = '//*[@id=\"any-family-with-weight-struggle-yes-label\"]'\n",
    "    elif answer == 'No':\n",
    "        family_path = '//*[@id=\"any-family-with-weight-struggle-no-label\"]'\n",
    "    else:\n",
    "        family_path = '//*[@id=\"any-family-with-weight-struggle-not-sure-label\"]'\n",
    "\n",
    "    await expect(page.locator(family_path)).to_be_enabled()\n",
    "    await page.locator(family_path).click()\n",
    "    await asyncio.sleep(4.1)\n",
    "\n",
    "    return print(f\"Chose family weight loss history: {answer} programs\") "
   ]
  },
  {
   "cell_type": "code",
   "execution_count": 18,
   "id": "0af75eaa-bd09-4e9b-b804-a880050eade9",
   "metadata": {},
   "outputs": [],
   "source": [
    "## await family_struggles('No')"
   ]
  },
  {
   "cell_type": "code",
   "execution_count": 19,
   "id": "3121b33e-4583-4ccd-a209-197ff10534e0",
   "metadata": {},
   "outputs": [],
   "source": [
    "## Page 10 - Click next\n",
    "\n",
    "# await click_next()"
   ]
  },
  {
   "cell_type": "code",
   "execution_count": 20,
   "id": "0728fb7a-f69a-40d9-b354-1e6c316b669d",
   "metadata": {},
   "outputs": [],
   "source": [
    "## Page 11 \"How would you describe the level of stress you experience in your daily life\"\n",
    "\n",
    "async def daily_stress(amount):\n",
    "\n",
    "    if amount == 'I rarely feel stressed':\n",
    "        stress_path = '//*[@id=\"daily-life-stress-level-rarely-stressed-label\"]'\n",
    "    elif amount == 'I feel stressed a few times a week':\n",
    "        stress_path = '//*[@id=\"daily-life-stress-level-few-times-a-week-label\"]'\n",
    "    elif amount == 'I feel stressed all the time':\n",
    "        stress_path = '//*[@id=\"daily-life-stress-level-all-the-time-label\"]'\n",
    "\n",
    "    await expect(page.locator(stress_path)).to_be_enabled()\n",
    "    await page.locator(stress_path).click()\n",
    "    await asyncio.sleep(4.4)\n",
    "\n",
    "    return print(f\"Chose stress level: {amount}\") "
   ]
  },
  {
   "cell_type": "code",
   "execution_count": 21,
   "id": "31053e42-4549-450b-bb2b-efcace856439",
   "metadata": {},
   "outputs": [],
   "source": [
    "## await daily_stress('I feel stressed a few times a week')"
   ]
  },
  {
   "cell_type": "code",
   "execution_count": 22,
   "id": "9593506a-3270-4460-9fd9-e85ad30c28fb",
   "metadata": {},
   "outputs": [],
   "source": [
    "## Page 12 \"On average, how much sleep do you get a night\" - select amount\n",
    "\n",
    "async def nightly_sleep(hours):\n",
    "\n",
    "    if hours > 9:\n",
    "        sleep_path = '//*[@id=\"quality-sleep-more-than-9hrs-label\"]'\n",
    "    elif hours in range(7, 9):\n",
    "        sleep_path = '//*[@id=\"quality-sleep-7-9hrs-label\"]'\n",
    "    elif hours < 7:\n",
    "        sleep_path = '//*[@id=\"quality-sleep-less-than-7hrs-label\"]'\n",
    "    else:\n",
    "        sleep_path = '//*[@id=\"quality-sleep-varies-with-trouble-sleeping-label\"]'\n",
    "\n",
    "    await expect(page.locator(sleep_path)).to_be_enabled()\n",
    "    await page.locator(sleep_path).click()\n",
    "    await asyncio.sleep(4.4)\n",
    "\n",
    "    return print(f\"Chose nightly sleep amount: {hours} hours\") "
   ]
  },
  {
   "cell_type": "code",
   "execution_count": 23,
   "id": "45126a89-5aa5-401e-b630-ab6d2e37fd8d",
   "metadata": {},
   "outputs": [],
   "source": [
    "## await nightly_sleep(7)"
   ]
  },
  {
   "cell_type": "code",
   "execution_count": 24,
   "id": "7dc7e808-5f1b-48ef-8e51-e9884dd2835c",
   "metadata": {},
   "outputs": [],
   "source": [
    "## Page 13 - Click next\n",
    "\n",
    "## await click_next()"
   ]
  },
  {
   "cell_type": "code",
   "execution_count": 25,
   "id": "0bdb5f69-c8f9-4b59-8adf-af3990796f3b",
   "metadata": {},
   "outputs": [],
   "source": [
    "## Page 14 \"Where do you hold most of your weight?\" - Choose body area\n",
    "\n",
    "async def weight_place(area):\n",
    "\n",
    "    if area == 'Around my stomach or waist':\n",
    "        weight_path = '//*[@id=\"weight-hold-sites-waist-or-stomach-label\"]'\n",
    "    elif area == 'Hips and thighs':\n",
    "        weight_path = '//*[@id=\"weight-hold-sites-hips-and-thighs-label\"]'\n",
    "    elif area == 'All over':\n",
    "        weight_path = '//*[@id=\"weight-hold-sites-all-over-label\"]'\n",
    "\n",
    "    await expect(page.locator(weight_path)).to_be_enabled()\n",
    "    await page.locator(weight_path).click()\n",
    "    await asyncio.sleep(4.6)\n",
    "\n",
    "    return print(f\"Chose weight area: {area}\") "
   ]
  },
  {
   "cell_type": "code",
   "execution_count": 26,
   "id": "c2472837-4800-45a0-bbe8-8a39accf63ea",
   "metadata": {},
   "outputs": [],
   "source": [
    "## await weight_place('Hips and thighs')"
   ]
  },
  {
   "cell_type": "code",
   "execution_count": 27,
   "id": "2d277313-2009-4ecf-a25e-0c7ef889c6ed",
   "metadata": {},
   "outputs": [],
   "source": [
    "## Page 15 - Click next\n",
    "\n",
    "## await click_next()"
   ]
  },
  {
   "cell_type": "code",
   "execution_count": 28,
   "id": "f4d04d57-ba19-4db4-8f46-13a3a60dbe08",
   "metadata": {},
   "outputs": [],
   "source": [
    "## Page 16 - select type of food craving\n",
    "\n",
    "async def craving_type(craving):\n",
    "\n",
    "    if craving == 'Sweet':\n",
    "        craving_path = '//*[@id=\"cravings-sweet-label\"]'\n",
    "    elif craving == 'Salty':\n",
    "        craving_path = '//*[@id=\"cravings-salty-label\"]'\n",
    "    elif craving == 'Both':\n",
    "        craving_path = '//*[@id=\"cravings-both-label\"]'\n",
    "    elif craving == \"I don't have cravings\":\n",
    "        craving_path = '//*[@id=\"cravings-no-cravings-label\"]'\n",
    "\n",
    "    await expect(page.locator(craving_path)).to_be_enabled()\n",
    "    await page.locator(craving_path).click()\n",
    "    await asyncio.sleep(2.8)\n",
    "\n",
    "    return print(f\"Chose craving type: {craving}\") "
   ]
  },
  {
   "cell_type": "code",
   "execution_count": 29,
   "id": "27ec02d4-b8c0-4c72-ae15-91f43585cb53",
   "metadata": {},
   "outputs": [],
   "source": [
    "## await craving_type('Salty')"
   ]
  },
  {
   "cell_type": "code",
   "execution_count": 30,
   "id": "ec07e659-726c-422f-9a92-61a3220b4fb6",
   "metadata": {},
   "outputs": [],
   "source": [
    "## Page 17 \"Which eating habit sounds most like you\" - select one\n",
    "\n",
    "async def eating_habit(habit):\n",
    "\n",
    "    if habit == \"I'm usually multitasking when I eat\":\n",
    "        habit_path = '//*[@id=\"automatic-label\"]'\n",
    "    elif habit == \"I tend to snack when I'm stressed\":\n",
    "        habit_path = '//*[@id=\"anxious-label\"]'\n",
    "    elif habit == 'I turn to food for comfort':\n",
    "        habit_path = '//*[@id=\"escapist-label\"]'\n",
    "    elif habit == 'I often reward myself with food':\n",
    "        habit_path = '//*[@id=\"uplifting-label\"]'\n",
    "    elif habit == 'I center my social life around dining out':\n",
    "        habit_path = '//*[@id=\"enthusiastic-label\"]'\n",
    "\n",
    "    await expect(page.locator(habit_path)).to_be_enabled()\n",
    "    await page.locator(habit_path).click()\n",
    "    await asyncio.sleep(2.3)\n",
    "    await expect(page.locator('button:text(\"Continue\")')).to_be_enabled()\n",
    "    await page.locator('button:text(\"Continue\")').click()\n",
    "    await asyncio.sleep(4)\n",
    "\n",
    "    return print(f\"Chose food habit type: {habit}\") "
   ]
  },
  {
   "cell_type": "code",
   "execution_count": 31,
   "id": "2c35977a-d283-41a7-9ef4-8d4b3dd69cbf",
   "metadata": {},
   "outputs": [],
   "source": [
    "## await eating_habit(\"I tend to snack when I'm stressed\")"
   ]
  },
  {
   "cell_type": "code",
   "execution_count": 32,
   "id": "c7712c36-19ce-401a-9b92-a3507d9126fd",
   "metadata": {},
   "outputs": [],
   "source": [
    "## Page 18 \"Any additional areas you'd like your program to focus on?\" - select one\n",
    "\n",
    "async def other_focus(focus):\n",
    "\n",
    "    if focus == \"Realistic nutrition plan\":\n",
    "        focus_path = '//*[@id=\"nutrition-label\"]'\n",
    "    elif focus == \"Movement that works for you\":\n",
    "        focus_path = '//*[@id=\"exercise-label\"]'\n",
    "    elif focus == 'Getting better sleep':\n",
    "        focus_path = '//*[@id=\"sleep-label\"]'\n",
    "    elif focus == 'Building healthier habits':\n",
    "        focus_path = '//*[@id=\"habits-label\"]'\n",
    "    elif focus == 'All of the above':\n",
    "        focus_path = '//*[@id=\"all-label\"]'\n",
    "\n",
    "    await expect(page.locator(focus_path)).to_be_enabled()\n",
    "    await page.locator(focus_path).click()\n",
    "    await asyncio.sleep(2.3)\n",
    "    await expect(page.locator('button:text(\"Continue\")')).to_be_enabled()\n",
    "    await page.locator('button:text(\"Continue\")').click()\n",
    "    await asyncio.sleep(4.3)\n",
    "\n",
    "    return print(f\"Chose other program focus: {focus}\") "
   ]
  },
  {
   "cell_type": "code",
   "execution_count": 33,
   "id": "eab2c707-c1ad-4b57-9af4-fcc4c59430cc",
   "metadata": {},
   "outputs": [],
   "source": [
    "## await other_focus('Building healthier habits')"
   ]
  },
  {
   "cell_type": "code",
   "execution_count": 34,
   "id": "43cd7641-77b5-4a89-8b32-a97df6faa6d9",
   "metadata": {},
   "outputs": [],
   "source": [
    "## Page 19 \"What would reaching your goal weight mean for you\" - select one\n",
    "\n",
    "async def goal_meaning(meaning):\n",
    "\n",
    "    if meaning == \"Having more energy\":\n",
    "        meaning_path = '//*[@id=\"energy-label\"]'\n",
    "    elif meaning == \"Feeling more confident\":\n",
    "        meaning_path = '//*[@id=\"confident-label\"]'\n",
    "    elif meaning == 'Improving overall health':\n",
    "        meaning_path = '//*[@id=\"overall-health-label\"]'\n",
    "    elif meaning == 'Feeling better in my body':\n",
    "        meaning_path = '//*[@id=\"better-body-label\"]'\n",
    "    elif meaning == 'Feeling good in clothes':\n",
    "        meaning_path = '//*[@id=\"clothes-label\"]'\n",
    "\n",
    "    await expect(page.locator(meaning_path)).to_be_enabled()\n",
    "    await page.locator(meaning_path).click()\n",
    "    await asyncio.sleep(2.8)\n",
    "    await expect(page.locator('button:text(\"Continue\")')).to_be_enabled()\n",
    "    await page.locator('button:text(\"Continue\")').click()\n",
    "    await asyncio.sleep(4)\n",
    "\n",
    "    return print(f\"Chose what reaching goal would mean: {meaning}\") "
   ]
  },
  {
   "cell_type": "code",
   "execution_count": 35,
   "id": "89e2b23d-c1b8-44fc-9147-13777f375a0b",
   "metadata": {},
   "outputs": [],
   "source": [
    "## await goal_meaning(\"Having more energy\")"
   ]
  },
  {
   "cell_type": "code",
   "execution_count": 36,
   "id": "b17ac661-8b6c-4778-bb79-d4174b0a8edd",
   "metadata": {},
   "outputs": [],
   "source": [
    "## Page 20 \"Now let's find which treatments you're elgible for - enter email\n",
    "\n",
    "def email_generator(size=10, chars=string.ascii_lowercase + string.digits):\n",
    "    alias = ''.join(random.choice(chars) for _ in range(size))\n",
    "    return alias+'@yahoo.com'\n",
    "\n",
    "def password_generator(size=10, chars=string.ascii_lowercase + string.digits):\n",
    "    password = ''.join(random.choice(chars) for _ in range(size))\n",
    "    return password\n",
    "\n",
    "async def enter_email():\n",
    "    email_form = page.locator('//*[@id=\"email\"]')\n",
    "    email = email_generator()\n",
    "    await email_form.fill(email)\n",
    "    await asyncio.sleep(1)\n",
    "    await click_continue()\n",
    "    await asyncio.sleep(2)\n",
    "\n",
    "    return print(f'Entered email address: {email}')\n",
    "\n",
    "async def enter_password():\n",
    "    password_form = page.locator('//*[@id=\"password\"]')\n",
    "    password = password_generator()\n",
    "    await password_form.fill(password)\n",
    "    await asyncio.sleep(1)\n",
    "    await click_continue()\n",
    "    await asyncio.sleep(2.5)\n",
    "\n",
    "    return print(f'Entered password: {password}')\n"
   ]
  },
  {
   "cell_type": "code",
   "execution_count": 37,
   "id": "c984b9f3-6d64-48b1-8f43-bba2248c1f12",
   "metadata": {},
   "outputs": [],
   "source": [
    "## await enter_email()\n",
    "## await enter_password()"
   ]
  },
  {
   "cell_type": "code",
   "execution_count": 38,
   "id": "6fc03dd8-eaf9-40a2-b723-ac22fcea7a11",
   "metadata": {},
   "outputs": [],
   "source": [
    "## Page 22 \"What is your height/weight?\" - enter height and weight\n",
    "\n",
    "async def enter_height(feet, inches):\n",
    "    feet_form = page.locator('//*[@id=\"feet\"]')\n",
    "    await feet_form.fill(feet)\n",
    "    await asyncio.sleep(1.6)\n",
    "    inches_form = page.locator('//*[@id=\"inches\"]')\n",
    "    await inches_form.fill(inches)\n",
    "    await asyncio.sleep(1.8)\n",
    "\n",
    "    return print(f'Entered height: {feet} feet {inches} inches')\n",
    "\n",
    "async def enter_weight(pounds):\n",
    "    pounds_form = page.locator('//*[@id=\"pounds\"]')\n",
    "    await pounds_form.fill(pounds)\n",
    "    await asyncio.sleep(2)\n",
    "\n",
    "    return print(f'Entered weight: {pounds} lbs')\n",
    "\n",
    "\n",
    "    "
   ]
  },
  {
   "cell_type": "code",
   "execution_count": 39,
   "id": "3b41eb3b-e47b-43a9-8247-614ba6f5bfef",
   "metadata": {},
   "outputs": [],
   "source": [
    "# await enter_height('6', '2')\n",
    "# await enter_weight('199')\n",
    "# await click_next()"
   ]
  },
  {
   "cell_type": "code",
   "execution_count": 40,
   "id": "24ee06b4-8e0f-4e4f-bb03-dae3317ac5b7",
   "metadata": {},
   "outputs": [],
   "source": [
    "## Page 23 \"What is your goal weight?\" - enter weight\n",
    "\n",
    "async def target_weight(target):\n",
    "    target_form = page.locator('//input[@id=\"3f149c5d-bc24-42b3-b381-ce5556454c06\"]')\n",
    "    await target_form.fill(target)\n",
    "    await asyncio.sleep(2.3)\n",
    "    await click_continue()\n",
    "\n",
    "    return print(f'Chose target weight: {target}')\n",
    "    "
   ]
  },
  {
   "cell_type": "code",
   "execution_count": 41,
   "id": "3ffb4efc-d2b2-4bc2-a4c3-89a8dda680e8",
   "metadata": {},
   "outputs": [],
   "source": [
    "## await target_weight('170')"
   ]
  },
  {
   "cell_type": "code",
   "execution_count": 42,
   "id": "c3b0cd94-05a7-4f52-8f97-b432018ad648",
   "metadata": {},
   "outputs": [],
   "source": [
    "## Page 24 \"Is your current weight the most you've ever weighed?\" - answer yes or no\n",
    "\n",
    "async def most_weighed(most):\n",
    "    \n",
    "    if most == 'Yes':\n",
    "        most_path = '//*[@id=\"0714e1a4-031e-496b-9478-506c9ce6e628-648dc58b-11d7-4166-95d1-8c0df29e08ce-label\"]'\n",
    "    elif most == 'No':\n",
    "        most_path = '//*[@id=\"0714e1a4-031e-496b-9478-506c9ce6e628-0ff405be-cca4-43d3-ab86-51b0e5cd9ff9-label\"]'\n",
    "\n",
    "    await expect(page.locator(most_path)).to_be_enabled()\n",
    "    await page.locator(most_path).click()\n",
    "    await asyncio.sleep(2.8)\n",
    "\n",
    "    return print(f'Is at highest ever weight: {most}')"
   ]
  },
  {
   "cell_type": "code",
   "execution_count": 43,
   "id": "c9401555-3fc8-4bdd-afeb-019967b4120f",
   "metadata": {},
   "outputs": [],
   "source": [
    "## await most_weighed('Yes')"
   ]
  },
  {
   "cell_type": "code",
   "execution_count": 44,
   "id": "dbc83f30-3899-41a7-95fb-3b00b751562a",
   "metadata": {},
   "outputs": [],
   "source": [
    "## Page 25 \"What was your sex assigned at birth\n",
    "\n",
    "async def birth_sex(sex):\n",
    "\n",
    "    if sex == 'Male':\n",
    "        sex_path = '//*[@id=\"5ad4cf8e-3c37-4c2f-a15a-7d3d78bb961f-743c1760-45c8-4f1c-919b-b0a4a1366e33-label\"]'\n",
    "    elif sex == 'Female':\n",
    "        sex_path = '//*[@id=\"5ad4cf8e-3c37-4c2f-a15a-7d3d78bb961f-b03ca92a-2a11-435f-b518-95507d1ef46a-label\"]'\n",
    "\n",
    "    await expect(page.locator(sex_path)).to_be_enabled()\n",
    "    await page.locator(sex_path).click()\n",
    "    await asyncio.sleep(2.8)\n",
    "\n",
    "    return print(f'Chose sex at birth: {sex}')"
   ]
  },
  {
   "cell_type": "code",
   "execution_count": 45,
   "id": "67bd6094-6d42-4a85-8530-e046b8af38ff",
   "metadata": {},
   "outputs": [],
   "source": [
    "## await birth_sex('Female')"
   ]
  },
  {
   "cell_type": "code",
   "execution_count": 46,
   "id": "3ccaac1e-6a3e-4a21-9db3-40fa7bab3387",
   "metadata": {},
   "outputs": [],
   "source": [
    "## Page 25a \"Are you currently pregnant or trying to become pregnat?\" - answer\n",
    "\n",
    "async def pregnant_status(pregnant):\n",
    "    \n",
    "    if pregnant == 'No':\n",
    "        pregnant_path = '//*[@id=\"c6b7fd8b-43f0-4c42-add1-6afde8074e79-9e54d5b1-a320-4aa0-b9e9-4ba83060a9e0-label\"]'\n",
    "    elif pregnant == 'Yes':\n",
    "        pregnant_path = '//*[@id=\"c6b7fd8b-43f0-4c42-add1-6afde8074e79-68499002-c9eb-456a-9d4f-bcfa4c4e9449-label\"]'\n",
    "    elif pregnant == 'Trying':\n",
    "        pregnant_path = '//*[@id=\"c6b7fd8b-43f0-4c42-add1-6afde8074e79-5fc0a0c3-85c5-445d-8b25-896d7b23b224-label\"]'\n",
    "\n",
    "    await expect(page.locator(pregnant_path)).to_be_enabled()\n",
    "    await page.locator(pregnant_path).click()\n",
    "    await asyncio.sleep(2.8)\n",
    "\n",
    "    return print(f'Chose pregnancy status: {pregnant}')"
   ]
  },
  {
   "cell_type": "code",
   "execution_count": 47,
   "id": "3d9da982-ca52-4f48-ba4e-923a92e86594",
   "metadata": {},
   "outputs": [],
   "source": [
    "## await pregnant_status('Yes')"
   ]
  },
  {
   "cell_type": "code",
   "execution_count": 48,
   "id": "8bb93e12-fce8-4770-b25c-b1ef0a5d96b7",
   "metadata": {},
   "outputs": [],
   "source": [
    "## Page 25b \"Are you currently pregnant or trying to become pregnat?\" - answer\n",
    "\n",
    "async def bf_status(breastfeeding):\n",
    "    \n",
    "    if breastfeeding == 'No':\n",
    "        bf_path = '//*[@id=\"22b6d502-7ed0-4ff8-92ab-11865f49fc62-d7e6c41c-f8c5-4c4c-81a0-6d9f6cdcac7a-label\"]'\n",
    "    elif breastfeeding == 'Yes':\n",
    "        bf_path = '//*[@id=\"22b6d502-7ed0-4ff8-92ab-11865f49fc62-bd3ea106-e5d5-4ef7-b63e-648505e7deb4-label\"]'\n",
    "\n",
    "    await expect(page.locator(bf_path)).to_be_enabled()\n",
    "    await page.locator(bf_path).click()\n",
    "    await asyncio.sleep(2.8)\n",
    "\n",
    "    return print(f'Chose breastfeeding status: {breastfeeding}')"
   ]
  },
  {
   "cell_type": "code",
   "execution_count": 49,
   "id": "85f0e140-988b-4308-a1a1-daf71261d295",
   "metadata": {},
   "outputs": [],
   "source": [
    "## await bf_status('Yes')"
   ]
  },
  {
   "cell_type": "code",
   "execution_count": 50,
   "id": "a43c70cc-0623-4cc4-9179-1cdde4082480",
   "metadata": {},
   "outputs": [],
   "source": [
    "## Page 26 \"Do you identify as a man?\" - yes or no\n",
    "\n",
    "async def male_identity(identity):\n",
    "    \n",
    "    if identity == 'Yes':\n",
    "        male_path = '//*[@id=\"f27b7009-bf9d-4e5c-b5f7-a35f10199e8b-42e9446a-906f-44c5-97cf-72f9d9c16985-label\"]'\n",
    "    elif identity == 'No':\n",
    "        male_path = '//*[@id=\"f27b7009-bf9d-4e5c-b5f7-a35f10199e8b-ddbe04d8-8bf6-4b00-9904-39481201e9c5-label\"]'\n",
    "\n",
    "    await expect(page.locator(male_path)).to_be_enabled()\n",
    "    await page.locator(male_path).click()\n",
    "    await asyncio.sleep(3)\n",
    "\n",
    "    return print(f'Identify as man: {identity}')"
   ]
  },
  {
   "cell_type": "code",
   "execution_count": 51,
   "id": "ff9441f9-d027-4420-be84-4a468f8ec60f",
   "metadata": {},
   "outputs": [],
   "source": [
    "## await male_identity('Yes')"
   ]
  },
  {
   "cell_type": "code",
   "execution_count": 52,
   "id": "d7a00005-20d3-447d-9633-b299bc741994",
   "metadata": {},
   "outputs": [],
   "source": [
    "## Page 26a \"What gender do you most identify with?\" - choose option\n",
    "\n",
    "async def gender_choice(gender):\n",
    "\n",
    "    if gender == \"Man\":\n",
    "        gender_path = '//*[@id=\"0b25c3a2-ddb1-427c-9b61-5c595f412cab-25eaab3f-2a97-4fef-b26a-e457e24c1186-label\"]'\n",
    "    elif gender == \"Woman\":\n",
    "        gender_path = '//*[@id=\"0b25c3a2-ddb1-427c-9b61-5c595f412cab-bce8e927-5682-477d-9728-c433d7c53624-label\"]'\n",
    "    elif gender == 'Genderqueer':\n",
    "        gender_path = '//*[@id=\"0b25c3a2-ddb1-427c-9b61-5c595f412cab-94502904-b129-4158-a9f4-1efbf0b1a2ca-label\"]'\n",
    "    elif gender == 'Non-binary':\n",
    "        gender_path = '//*[@id=\"0b25c3a2-ddb1-427c-9b61-5c595f412cab-47304175-2e56-447d-b4ee-6074a372a462-label\"]'\n",
    "    elif gender == 'Agender':\n",
    "        gender_path = '//*[@id=\"0b25c3a2-ddb1-427c-9b61-5c595f412cab-ae802ba6-e5df-4d14-9339-b2d90cf44e61-label\"]'\n",
    "    elif gender == 'Questioning':\n",
    "        gender_path = '//*[@id=\"0b25c3a2-ddb1-427c-9b61-5c595f412cab-b1d963fa-db27-4844-b359-409ee8479187-label\"]'\n",
    "\n",
    "    await expect(page.locator(gender_path)).to_be_enabled()\n",
    "    await page.locator(gender_path).click()\n",
    "    await asyncio.sleep(2.5)\n",
    "\n",
    "    return print(f\"Chose gender: {gender}\") "
   ]
  },
  {
   "cell_type": "code",
   "execution_count": 53,
   "id": "66bf869d-8486-47d7-8903-f0ee67066521",
   "metadata": {},
   "outputs": [],
   "source": [
    "## await gender_choice('Genderqueer')"
   ]
  },
  {
   "cell_type": "code",
   "execution_count": 54,
   "id": "177741b4-d9f2-4437-a550-b5f79b472a9c",
   "metadata": {},
   "outputs": [],
   "source": [
    "## Page 27 \"Have you ever experienced any of these symptoms?\" - choose option\n",
    "\n",
    "async def eating_disorder(disorder):\n",
    "\n",
    "    if disorder == \"Causing yourself to vomit in order to lose weight\":\n",
    "        disorder_path = '//*[@id=\"705fa680-a46b-4987-8960-82cfa1d815ea-label\"]'\n",
    "    elif disorder == \"Frequently eating very large amounts of food and feeling like you can't stop eating\":\n",
    "        disorder_path = '//*[@id=\"680d8d8f-a32f-4073-b809-b2c1256d4344-label\"]'\n",
    "    elif disorder == 'Severely limiting the amount of food you eat due to an intense fear of gaining weight':\n",
    "        disorder_path = '//*[@id=\"e783faf4-f18d-4543-8521-11b6e392994b-label\"]'\n",
    "    elif disorder == 'None of these':\n",
    "        disorder_path = '//*[@id=\"41765552-942d-438c-82be-78644f237c1d-label\"]'\n",
    "    \n",
    "    await expect(page.locator(disorder_path)).to_be_enabled()\n",
    "    await page.locator(disorder_path).click()\n",
    "    await asyncio.sleep(1)\n",
    "    await click_continue()\n",
    "\n",
    "    return print(f\"Chose eating disorder symptoms: {disorder}\") "
   ]
  },
  {
   "cell_type": "code",
   "execution_count": 55,
   "id": "61b7c5ce-3e94-420a-bad6-6f1c2ebbb426",
   "metadata": {},
   "outputs": [],
   "source": [
    "## await eating_disorder('Causing yourself to vomit in order to lose weight')"
   ]
  },
  {
   "cell_type": "code",
   "execution_count": 56,
   "id": "56199e44-e632-4b54-b552-fc7ebf3440e4",
   "metadata": {},
   "outputs": [],
   "source": [
    "## Page 27a \"Have you been diagnosed with any of the following conditions?\" - choose option\n",
    "\n",
    "async def disorder_diagnosis(diagnosis):\n",
    "\n",
    "    if diagnosis == \"Anorexia\":\n",
    "        diagnosis_path = '//*[@id=\"fd9a523c-7f2c-47de-82d9-9bff51c4dd79-label\"]'\n",
    "    elif diagnosis == \"Bulimia\":\n",
    "        diagnosis_path = '//*[@id=\"cb12f86f-d4e4-4c65-9acc-dbddce9619bb-label\"]'\n",
    "    elif diagnosis == 'Binge eating disorder':\n",
    "        diagnosis_path = '//*[@id=\"1e4b6ee8-3784-4c61-92c6-b02b68cebfb7-label\"]'\n",
    "    elif diagnosis == 'None of these':\n",
    "        diagnosis_path = '//*[@id=\"7068ce16-bc03-41b4-933a-6390bac62cab-label\"]'\n",
    "    \n",
    "    await expect(page.locator(diagnosis_path)).to_be_enabled()\n",
    "    await page.locator(diagnosis_path).click()\n",
    "    await asyncio.sleep(1.2)\n",
    "    await click_continue()\n",
    "\n",
    "    return print(f\"Chose eating disorder diagnosis: {diagnosis}\") "
   ]
  },
  {
   "cell_type": "code",
   "execution_count": 57,
   "id": "41d19dac-ede4-43b8-a8de-02e35eec6fdc",
   "metadata": {},
   "outputs": [],
   "source": [
    "## await disorder_diagnosis('Anorexia')"
   ]
  },
  {
   "cell_type": "code",
   "execution_count": 58,
   "id": "a66a5759-3e78-42ef-9616-85e592582f70",
   "metadata": {},
   "outputs": [],
   "source": [
    "## Page 27b \"Have you been in remission from your anorexia or bulimia eating disorder for one year or more?\" - pick answer\n",
    "\n",
    "async def remission_choice(remission):\n",
    "\n",
    "    if remission == \"No, I am currently being treated\":\n",
    "        await page.locator('label:has-text(\"No, I am currently being treated\")').click(); \n",
    "    elif remission == \"No, I have been in remission for less than one year\":\n",
    "        await page.locator('label:has-text(\"No, I have been in remission for less than one year\")').click();\n",
    "    elif remission == 'Yes, I have been in remission for one year or more':\n",
    "       await page.locator('label:has-text(\"Yes, I have been in remission for one year or more\")').click();\n",
    "\n",
    "    await asyncio.sleep(2.2)\n",
    "\n",
    "    return print(f\"Chose remission status: {remission}\") "
   ]
  },
  {
   "cell_type": "code",
   "execution_count": 59,
   "id": "2cad0c44-d697-4db0-8c79-b3026d9680e5",
   "metadata": {},
   "outputs": [],
   "source": [
    "## await remission_choice('Yes, I have been in remission for one year or more')"
   ]
  },
  {
   "cell_type": "code",
   "execution_count": 60,
   "id": "e7cd26ea-6a99-4cb0-bd86-17bb0b27b13d",
   "metadata": {},
   "outputs": [],
   "source": [
    "## Page 27c \"Have you purged or forced yourself to vomit in order to lose weight within the last 12 months?\" - yes or no\n",
    "\n",
    "async def purge_choice(purge):\n",
    "\n",
    "    if purge == \"No\":\n",
    "        await page.locator('label:has-text(\"No\")').click();\n",
    "        ## purge_path = '//*[@id=\"d31b9d37-9aa6-444f-9efe-bb7a2f04f66e-aeace109-f688-43ab-8a02-9828b15ee8a7-label\"]'\n",
    "    elif purge == \"Yes\":\n",
    "        await page.locator('label:has-text(\"Yes\")').click();\n",
    "        ## purge_path = '//*[@id=\"d31b9d37-9aa6-444f-9efe-bb7a2f04f66e-a2a25735-45f3-44e0-8cf8-79520db1c42b-label\"]'\n",
    "\n",
    "    # await expect(page.locator(purge_path)).to_be_enabled()\n",
    "    # await page.locator(purge_path).click()\n",
    "    await asyncio.sleep(2.2)\n",
    "\n",
    "    return print(f\"Have purged in last 12 months: {purge}\") "
   ]
  },
  {
   "cell_type": "code",
   "execution_count": 61,
   "id": "97f1018f-785d-4d93-96b9-a5991cb23535",
   "metadata": {},
   "outputs": [],
   "source": [
    "## await purge_choice('Yes')"
   ]
  },
  {
   "cell_type": "code",
   "execution_count": 62,
   "id": "4e83402b-9b46-4deb-8edd-abeee1c90dd4",
   "metadata": {},
   "outputs": [],
   "source": [
    "## Page 27c-1 \"How frequently have you purged or vomited to lose weight over the last 3 months?\" - choose answer\n",
    "\n",
    "async def purge_frequency(frequency):\n",
    "\n",
    "    if frequency == \"About once a week\":\n",
    "        await page.locator('label:has-text(\"About once a week\")').click();\n",
    "        ## frequency_path = '//*[@id=\"55e621aa-8f93-4a11-836c-32e95b85fca4-4e919644-65df-4141-8a4b-4dfada65a1b7-label\"]'\n",
    "    elif frequency == \"About once a month\":\n",
    "         await page.locator('label:has-text(\"About once a month\")').click();\n",
    "        ## frequency_path = '//*[@id=\"55e621aa-8f93-4a11-836c-32e95b85fca4-71434011-402f-4de2-9524-851e052209cd-label\"]'\n",
    "    elif frequency == 'Not at all':\n",
    "        await page.locator('label:has-text(\"Not at all\")').click();\n",
    "        ## frequency_path = '//*[@id=\"55e621aa-8f93-4a11-836c-32e95b85fca4-779f6ea2-5884-4bcd-8f7e-1c6c77bb9567-label\"]'\n",
    "\n",
    "    # await expect(page.locator(frequency_path)).to_be_enabled()\n",
    "    # await page.locator(frequency_path).click()\n",
    "    await asyncio.sleep(2.2)\n",
    "\n",
    "    return print(f\"Chose purge frequency: {frequency}\") "
   ]
  },
  {
   "cell_type": "code",
   "execution_count": 63,
   "id": "c83ff1cf-665e-4a56-a6f4-2163ff2040bd",
   "metadata": {},
   "outputs": [],
   "source": [
    "## await purge_frequency('About once a week')"
   ]
  },
  {
   "cell_type": "code",
   "execution_count": 64,
   "id": "cfeb4c57-27e5-47ce-b7bf-c357f03f6c25",
   "metadata": {},
   "outputs": [],
   "source": [
    "## page 27c-2 \"Please be aware that purging...\" - click 'I understand'\n",
    "\n",
    "async def purge_disclosure():\n",
    "    understand_path = '//*[@id=\"93f51a64-a483-43bd-98bd-e1260330982e-724650de-2ac1-4fdb-a159-e0b52faeeb11-label\"]'\n",
    "    await expect(page.locator(understand_path)).to_be_enabled()\n",
    "    await page.locator(understand_path).click()\n",
    "    await asyncio.sleep(2.8)"
   ]
  },
  {
   "cell_type": "code",
   "execution_count": 65,
   "id": "0f41351c-913f-4642-b123-a904f5995e26",
   "metadata": {},
   "outputs": [],
   "source": [
    "## await purge_disclosure()"
   ]
  },
  {
   "cell_type": "code",
   "execution_count": 66,
   "id": "e855a75a-750b-4ecb-b234-4208de42b253",
   "metadata": {},
   "outputs": [],
   "source": [
    "## page 27b-1 \"Are you currently receiving psycotherapy treatment?\" - yes or no\n",
    "\n",
    "async def psycotherapy_choice(psycotherapy):\n",
    "    \n",
    "    if psycotherapy == 'Yes':\n",
    "        psycotherapy_path = '//*[@id=\"2c23b1a5-b19f-4669-8451-fc674c09c088-2aa2453a-6c19-4ce9-8065-34c8ba9b9925-label\"]'\n",
    "    elif psycotherapy == 'No':\n",
    "        psycotherapy_path = '//*[@id=\"2c23b1a5-b19f-4669-8451-fc674c09c088-2e00d30b-ea63-489d-baee-b0d87fe15647-label\"]'\n",
    "\n",
    "    await expect(page.locator(psycotherapy_path)).to_be_enabled()\n",
    "    await page.locator(psycotherapy_path).click()\n",
    "    await asyncio.sleep(3)\n",
    "\n",
    "    return print(f'Currently in psycotherapy: {psycotherapy}')"
   ]
  },
  {
   "cell_type": "code",
   "execution_count": 67,
   "id": "6d7ad30b-cc4a-4f5c-9230-42a40f6cf117",
   "metadata": {},
   "outputs": [],
   "source": [
    "## await psycotherapy_choice('Yes')"
   ]
  },
  {
   "cell_type": "code",
   "execution_count": 68,
   "id": "b268ee28-646d-47f6-90db-ac0940924925",
   "metadata": {},
   "outputs": [],
   "source": [
    "async def mental_diagnosis(mental):\n",
    "\n",
    "    if mental == \"No\":\n",
    "        await page.locator('label:has-text(\"No\")').click();\n",
    "    if mental == \"Yes\":\n",
    "        await page.locator('label:has-text(\"Yes\")').click();\n",
    "    await asyncio.sleep(2.3)\n",
    "\n",
    "    return print(f'Have mental health diagnosis: {mental}')"
   ]
  },
  {
   "cell_type": "code",
   "execution_count": 69,
   "id": "98641ecc-c8b4-45d2-8b20-91c2c374b41a",
   "metadata": {},
   "outputs": [],
   "source": [
    "## await mental_diagnosis('No')"
   ]
  },
  {
   "cell_type": "code",
   "execution_count": 70,
   "id": "a3d16147-1654-4322-a2b7-66298e4e5434",
   "metadata": {},
   "outputs": [],
   "source": [
    "async def mental_condition(condition):\n",
    "\n",
    "    if condition == \"Depression\":\n",
    "        await page.locator('//*[@id=\"d0817c1c-b7ff-4181-9b2d-984365bb4d7c-label\"]').click();\n",
    "    elif condition == \"Generalized anxiety\":\n",
    "        await page.locator('label:has-text(\"Generalized anxiety\")').click();\n",
    "    elif condition == \"Bipolar disease (manic depression)\":\n",
    "        await page.locator('label:has-text(\"Bipolar disease (manic depression)\")').click();\n",
    "    elif condition == \"Panic attack\":\n",
    "        await page.locator('label:has-text(\"Panic attack\")').click();\n",
    "    elif condition == \"Psychiatric hospitalization within the last 3 months\":\n",
    "        await page.locator('label:has-text(\"Psychiatric hospitalization within the last 3 months\")').click();\n",
    "    elif condition == \"Schizophrenia or schizoaffective disorder\":\n",
    "        await page.locator('label:has-text(\"Schizophrenia or schizoaffective disorder\")').click();\n",
    "    elif condition == \"Psychosis\":\n",
    "        await page.locator('label:has-text(\"Psychosis\")').click();\n",
    "    elif condition == \"Borderline personality disorder\":\n",
    "        await page.locator('label:has-text(\"Borderline personality disorder\")').click();\n",
    "\n",
    "    await asyncio.sleep(.8)\n",
    "    await click_continue()\n",
    "\n",
    "    return print(f'Chose mental condition: {condition}')"
   ]
  },
  {
   "cell_type": "code",
   "execution_count": 71,
   "id": "b8101f98-1146-455a-9e90-dc38fb6942c0",
   "metadata": {},
   "outputs": [],
   "source": [
    "## await mental_condition(\"Depression\")"
   ]
  },
  {
   "cell_type": "code",
   "execution_count": 72,
   "id": "8cace228-0855-4b90-9076-594152f78aa4",
   "metadata": {},
   "outputs": [],
   "source": [
    "async def mental_medication(medication):\n",
    "\n",
    "    if medication == \"No\":\n",
    "        await page.locator('label:has-text(\"No\")').click();\n",
    "    if medication == \"Yes\":\n",
    "        await page.locator('label:has-text(\"Yes\")').click();\n",
    "    await asyncio.sleep(2.3)\n",
    "\n",
    "    return print(f'Taking mental health medication: {medication}')"
   ]
  },
  {
   "cell_type": "code",
   "execution_count": 73,
   "id": "520a07cf-b680-4ed2-b2ad-8ea7cb16588f",
   "metadata": {},
   "outputs": [],
   "source": [
    "## await mental_medication('Yes')"
   ]
  },
  {
   "cell_type": "code",
   "execution_count": 74,
   "id": "f83d3968-7ff3-498f-b7a3-7b2cc60df6de",
   "metadata": {},
   "outputs": [],
   "source": [
    "async def choose_med(medlist):\n",
    "\n",
    "    target_form = page.locator('//*[@id=\"searchTerm\"]')\n",
    "    await target_form.fill(medlist)\n",
    "    await asyncio.sleep(1)\n",
    "    await page.get_by_role(\"button\").nth(1).click()\n",
    "    await asyncio.sleep(2)\n",
    "    await click_continue()\n",
    "\n",
    "    return print(f'Chose medication: {medlist}')\n",
    "    "
   ]
  },
  {
   "cell_type": "code",
   "execution_count": 75,
   "id": "b69df7a0-7907-46e0-90b9-9542fbd33b36",
   "metadata": {},
   "outputs": [],
   "source": [
    "## await choose_med('Sertraline')"
   ]
  },
  {
   "cell_type": "code",
   "execution_count": 76,
   "id": "4e0d6b16-8ebc-4ee3-bace-c35d5319890a",
   "metadata": {},
   "outputs": [],
   "source": [
    "async def suicidal_choice(suicidal):\n",
    "\n",
    "    if suicidal == \"No\":\n",
    "        await page.locator('label:has-text(\"No\")').click();\n",
    "    if suicidal == \"Yes\":\n",
    "        await page.locator('label:has-text(\"Yes\")').click();\n",
    "    await asyncio.sleep(2)\n",
    "\n",
    "    return print(f'Having thoughts of suicide: {suicidal}')"
   ]
  },
  {
   "cell_type": "code",
   "execution_count": 77,
   "id": "e1aafe91-d694-4ad5-a67e-d9a8a9cec6fa",
   "metadata": {},
   "outputs": [],
   "source": [
    "## await suicidal_choice('Yes')"
   ]
  },
  {
   "cell_type": "code",
   "execution_count": 78,
   "id": "75f39c61-c0de-4978-aa58-0763b74fc872",
   "metadata": {},
   "outputs": [],
   "source": [
    "async def suicide_disclosure():\n",
    "\n",
    "    await page.locator('label:has-text(\"I understand\")').click();\n",
    "    await asyncio.sleep(2.2)"
   ]
  },
  {
   "cell_type": "code",
   "execution_count": 79,
   "id": "b0d2fc37-fb24-4f9b-b019-09281cf8ace7",
   "metadata": {},
   "outputs": [],
   "source": [
    "## await suicide_disclosure()"
   ]
  },
  {
   "cell_type": "code",
   "execution_count": 80,
   "id": "4cbf9ce2-8669-4827-a393-555978c8b665",
   "metadata": {},
   "outputs": [],
   "source": [
    "async def chronic_choice(chronic):\n",
    "\n",
    "    if chronic == \"No\":\n",
    "        await page.locator('label:has-text(\"No\")').click();\n",
    "    if chronic == \"Yes\":\n",
    "        await page.locator('label:has-text(\"Yes\")').click();\n",
    "    await asyncio.sleep(2)\n",
    "\n",
    "    return print(f'Have medical or chronic diseases: {chronic}')"
   ]
  },
  {
   "cell_type": "code",
   "execution_count": 81,
   "id": "ce7d6788-a743-48dd-adfe-12a3bbcd1ed6",
   "metadata": {},
   "outputs": [],
   "source": [
    "## await chronic_choice('Yes')"
   ]
  },
  {
   "cell_type": "code",
   "execution_count": 82,
   "id": "5917bd3c-9858-461e-ad3e-316b475c4b0e",
   "metadata": {},
   "outputs": [],
   "source": [
    "async def kidney_choice(kidney):\n",
    "\n",
    "    if kidney == \"Acute or chronic kidney disease (CKD)\":\n",
    "        await page.locator('label:has-text(\"Acute or chronic kidney disease (CKD)\")').click(); \n",
    "    elif kidney == \"Kidney stones\":\n",
    "        await page.locator('label:has-text(\"Kidney stones\")').click();\n",
    "    elif kidney == 'No, none of these':\n",
    "       await page.locator('label:has-text(\"No, none of these\")').click();\n",
    "    await asyncio.sleep(.5)\n",
    "    await click_continue()\n",
    "    await asyncio.sleep(2)\n",
    "\n",
    "    return print(f\"Chose kidney condition: {kidney}\") "
   ]
  },
  {
   "cell_type": "code",
   "execution_count": 83,
   "id": "12d5eb86-befb-46c7-9716-9a0266ff21db",
   "metadata": {},
   "outputs": [],
   "source": [
    "## await kidney_choice('Kidney stones')"
   ]
  },
  {
   "cell_type": "code",
   "execution_count": 84,
   "id": "e3dff69b-ea9c-4ce3-a4f7-c7d703efeee4",
   "metadata": {},
   "outputs": [],
   "source": [
    "async def medical_condition(medical):\n",
    "\n",
    "    if medical == \"Hypertension (high blood pressure)\":\n",
    "        await page.locator('label:has-text(\"Hypertension (high blood pressure)\")').click(); \n",
    "    elif medical == \"Hypotension (low blood pressure)\":\n",
    "        await page.locator('label:has-text(\"Hypotension (low blood pressure)\")').click();\n",
    "    elif medical == 'Diabetes (Type 1)':\n",
    "       await page.locator('label:has-text(\"Diabetes (Type 1)\")').click();\n",
    "    elif medical == 'Diabetes (Type 2)':\n",
    "       await page.locator('label:has-text(\"Diabetes (Type 2)\")').click();\n",
    "    elif medical == 'Prediabetes':\n",
    "       await page.locator('label:has-text(\"Prediabetes\")').click();\n",
    "    elif medical == 'Seizure disorder (including Epilepsy)':\n",
    "       await page.locator('label:has-text(\"Seizure disorder (including Epilepsy)\")').click();\n",
    "    elif medical == 'Heart attack':\n",
    "       await page.locator('label:has-text(\"Heart attack\")').click();\n",
    "    elif medical == 'Heart disease':\n",
    "       await page.locator('label:has-text(\"Heart disease\")').click();\n",
    "    elif medical == 'Stroke, mini stroke, or TIA':\n",
    "       await page.locator('label:has-text(\"Stroke, mini stroke, or TIA\")').click();\n",
    "    elif medical == 'Heart arrhythmia (including long QT syndrome)':\n",
    "       await page.locator('label:has-text(\"Heart arrhythmia (including long QT syndrome)\")').click();\n",
    "    elif medical == 'Hyperlipidemia (high cholesterol)':\n",
    "       await page.locator('label:has-text(\"Hyperlipidemia (high cholesterol)\")').click();\n",
    "    elif medical == 'Angina':\n",
    "       await page.locator('label:has-text(\"Angina\")').click();\n",
    "    elif medical == 'Congestive heart failure':\n",
    "       await page.locator('label:has-text(\"Congestive heart failure\")').click();\n",
    "    elif medical == 'Liver issues':\n",
    "       await page.locator('label:has-text(\"Liver issues\")').click();\n",
    "    elif medical == 'Cancer':\n",
    "       await page.locator('label:has-text(\"Cancer\")').click();\n",
    "    elif medical == 'Glaucoma':\n",
    "       await page.locator('label:has-text(\"Glaucoma\")').click();\n",
    "    elif medical == 'Gout':\n",
    "       await page.locator('label:has-text(\"Gout\")').click();\n",
    "    elif medical == 'Cystic fibrosis':\n",
    "       await page.locator('label:has-text(\"Cystic fibrosis\")').click();\n",
    "    elif medical == 'Hyponatremia':\n",
    "       await page.locator('label:has-text(\"Hyponatremia\")').click();\n",
    "    elif medical == 'Phenylketonuria (PKU)':\n",
    "       await page.locator('label:has-text(\"Phenylketonuria (PKU)\")').click();\n",
    "    elif medical == 'Obstructive sleep apnea':\n",
    "       await page.locator('label:has-text(\"Obstructive sleep apnea\")').click();\n",
    "    elif medical == 'No, none of these apply to me':\n",
    "       await page.locator('label:has-text(\"No, none of these apply to me\")').click();\n",
    "        \n",
    "    await asyncio.sleep(.5)\n",
    "    await click_continue()\n",
    "    await asyncio.sleep(2)\n",
    "\n",
    "    return print(f\"Chose medical condition: {medical}\") "
   ]
  },
  {
   "cell_type": "code",
   "execution_count": 85,
   "id": "5329e469-4a1a-4899-830c-3405f260f818",
   "metadata": {},
   "outputs": [],
   "source": [
    "## await medical_condition('Diabetes (Type 1)')"
   ]
  },
  {
   "cell_type": "code",
   "execution_count": 86,
   "id": "74200c1c-2c2c-4548-a862-61632902e14c",
   "metadata": {},
   "outputs": [],
   "source": [
    "async def medical_other(other):\n",
    "\n",
    "    if other == \"No\":\n",
    "        await page.locator('label:has-text(\"No\")').click();\n",
    "    if other == \"Yes\":\n",
    "        await page.locator('label:has-text(\"Yes\")').click();\n",
    "    await asyncio.sleep(2)\n",
    "\n",
    "    return print(f'Have other medical conditions: {other}')"
   ]
  },
  {
   "cell_type": "code",
   "execution_count": 87,
   "id": "235cc863-d018-4070-98f0-f8dc2e1ce0dc",
   "metadata": {},
   "outputs": [],
   "source": [
    "## await medical_other('No')"
   ]
  },
  {
   "cell_type": "code",
   "execution_count": 88,
   "id": "0a1b0d57-58f5-4c83-abf2-58ef6bb9c7f1",
   "metadata": {},
   "outputs": [],
   "source": [
    "async def family_medical(familymed):\n",
    "\n",
    "    if familymed == \"Medullary thyroid cancer\":\n",
    "        await page.locator('label:has-text(\"Medullary thyroid cancer\")').click(); \n",
    "    elif familymed == \"Multiple endocrine neoplasia type-2\":\n",
    "        await page.locator('label:has-text(\"Multiple endocrine neoplasia type-2\")').click();\n",
    "    elif familymed == 'Pancreatitis':\n",
    "       await page.locator('label:has-text(\"Pancreatitis\")').click();\n",
    "    elif familymed == \"Gastroparesis (delayed stomach emptying)\":\n",
    "        await page.locator('label:has-text(\"Gastroparesis (delayed stomach emptying)\")').click();\n",
    "    elif familymed == 'Diabetes type-2':\n",
    "       await page.locator('label:has-text(\"Diabetes type-2\")').click();\n",
    "    elif 'No, none' in familymed:\n",
    "        await page.locator('label:has-text(\"No, none\")').click();\n",
    "    await asyncio.sleep(.5)\n",
    "    await click_continue()\n",
    "    await asyncio.sleep(2)\n",
    "\n",
    "    return print(f\"Chose family medical history: {familymed}\") "
   ]
  },
  {
   "cell_type": "code",
   "execution_count": 89,
   "id": "8f73a5e5-f0d3-4e4e-a6cc-0086aab3a440",
   "metadata": {},
   "outputs": [],
   "source": [
    "## await family_medical('No, none of these')"
   ]
  },
  {
   "cell_type": "code",
   "execution_count": 90,
   "id": "583a28f6-e83d-43a6-be2a-25ba2365819d",
   "metadata": {},
   "outputs": [],
   "source": [
    "async def cardiac_history(cardiac):\n",
    "\n",
    "    if cardiac == \"No\":\n",
    "        await page.locator('label:has-text(\"No\")').click();\n",
    "    if cardiac == \"Yes\":\n",
    "        await page.locator('label:has-text(\"Yes\")').click();\n",
    "    await asyncio.sleep(2)\n",
    "\n",
    "    return print(f'Has anyone in family died from cardiac event: {cardiac}')"
   ]
  },
  {
   "cell_type": "code",
   "execution_count": 91,
   "id": "1cb71b48-895c-4f51-a533-07e9bb8a2bdb",
   "metadata": {},
   "outputs": [],
   "source": [
    "## await cardiac_history('No')"
   ]
  },
  {
   "cell_type": "code",
   "execution_count": 92,
   "id": "07c8e65c-7e92-44ef-b504-be615ef3c6bf",
   "metadata": {},
   "outputs": [],
   "source": [
    "async def surgery_history(surgery):\n",
    "\n",
    "    if surgery == \"No\":\n",
    "        await page.locator('label:has-text(\"No\")').click();\n",
    "    if surgery == \"Yes\":\n",
    "        await page.locator('label:has-text(\"Yes\")').click();\n",
    "    await asyncio.sleep(2)\n",
    "\n",
    "    return print(f'Have you had surgeries in past: {surgery}')"
   ]
  },
  {
   "cell_type": "code",
   "execution_count": 93,
   "id": "ddfbbdb7-5ad1-4662-a9c9-5bbe28ad9376",
   "metadata": {},
   "outputs": [],
   "source": [
    "## await surgery_history('No')"
   ]
  },
  {
   "cell_type": "code",
   "execution_count": 94,
   "id": "fceefc50-52a3-4ac6-8dde-9d572614efaf",
   "metadata": {},
   "outputs": [],
   "source": [
    "async def glp1_history(glp1):\n",
    "\n",
    "    if glp1 == \"I am currently taking a GLP-1 medication\":\n",
    "        await page.locator('label:has-text(\"I am currently taking a GLP-1 medication\")').click();\n",
    "    elif glp1 == \"I have taken a GLP-1 medication in the past but I'm not currently\":\n",
    "        await page.locator('label:has-text(\"I have taken a GLP-1 medication in the past but\")').click();\n",
    "    elif glp1 == \"I have never taken a GLP-1 medication\":\n",
    "        await page.locator('label:has-text(\"I have never taken a GLP-1 medication\")').click();\n",
    "    await asyncio.sleep(2)\n",
    "\n",
    "    return print(f'Have you taken GLP-1 in past: {glp1}')"
   ]
  },
  {
   "cell_type": "code",
   "execution_count": 95,
   "id": "df60ac25-c9ea-43d6-8bd3-d243e0766c7c",
   "metadata": {},
   "outputs": [],
   "source": [
    "## await glp1_history(\"I have taken a GLP-1 medication in the past but I'm not currently\")"
   ]
  },
  {
   "cell_type": "code",
   "execution_count": 96,
   "id": "1590f32e-3d9f-4dcb-a53b-0df8b646ca94",
   "metadata": {},
   "outputs": [],
   "source": [
    "async def glp1_med(glp1med):\n",
    "\n",
    "    if \"Injectable liraglutide\" in glp1med:\n",
    "        await page.locator('label:has-text(\"Injectable liraglutide\")').click();\n",
    "    elif \"Injectable tirzepatide\" in glp1med:\n",
    "        await page.locator('label:has-text(\"Injectable tirzepatide\")').click();\n",
    "    elif \"Injectable semaglutide\" in glp1med:\n",
    "        await page.locator('label:has-text(\"Injectable semaglutide\")').click();\n",
    "    elif \"Other GLP-1\" in glp1med:\n",
    "        await page.locator('label:has-text(\"Other GLP-1\")').click();\n",
    "    await asyncio.sleep(.5)\n",
    "    await click_continue()\n",
    "\n",
    "    return print(f'What GLP-1 have you taken: {glp1med}')"
   ]
  },
  {
   "cell_type": "code",
   "execution_count": 97,
   "id": "62d9939d-25a0-4e64-91a7-d7de1700a37e",
   "metadata": {},
   "outputs": [],
   "source": [
    "## await glp1_med('Injectable semaglutide')"
   ]
  },
  {
   "cell_type": "code",
   "execution_count": 98,
   "id": "608f9dfd-75fe-4f55-9b13-9736ece4c8a8",
   "metadata": {},
   "outputs": [],
   "source": [
    "async def glp1_last(glp1last):\n",
    "\n",
    "    if glp1last == \"Within the last 2 weeks\":\n",
    "        await page.locator('label:has-text(\"Within the last 2 weeks\")').click();\n",
    "    elif glp1last == \"2-4 weeks ago\":\n",
    "        await page.locator('label:has-text(\"2-4 weeks ago\")').click();\n",
    "    elif glp1last == \"Over 4 weeks ago\":\n",
    "        await page.locator('label:has-text(\"Over 4 weeks ago\")').click();\n",
    "    await asyncio.sleep(2)\n",
    "\n",
    "    return print(f'Last took GLP-1: {glp1last}')"
   ]
  },
  {
   "cell_type": "code",
   "execution_count": 99,
   "id": "c4bb2d19-4ee6-4509-88a2-ca376728aaa9",
   "metadata": {},
   "outputs": [],
   "source": [
    "## await glp1_last('Within the last 2 weeks')"
   ]
  },
  {
   "cell_type": "code",
   "execution_count": 100,
   "id": "85c2abd8-45b7-432d-9d77-f64be13429c7",
   "metadata": {},
   "outputs": [],
   "source": [
    "async def glp1_dose(glp1dose):\n",
    "\n",
    "    if glp1dose == \"0.25 mg\":\n",
    "        await page.locator('label:has-text(\"0.25 mg\")').click();\n",
    "    elif glp1dose == \"0.5 mg\":\n",
    "        await page.locator('label:has-text(\"0.5 mg\")').click();\n",
    "    elif glp1dose == \"1 mg\":\n",
    "        await page.locator('label:has-text(\"1 mg\")').click();\n",
    "    elif glp1dose == \"1.25 mg\":\n",
    "        await page.locator('label:has-text(\"1.25 mg\")').click();\n",
    "    elif glp1dose == \"1.7 mg\":\n",
    "        await page.locator('label:has-text(\"1.7 mg\")').click();\n",
    "    elif glp1dose == \"2 mg\":\n",
    "        await page.locator('label:has-text(\"2 mg\")').click();\n",
    "    elif glp1dose == \"2.4 mg\":\n",
    "        await page.locator('label:has-text(\"2.4 mg\")').click();\n",
    "    elif glp1dose == \"2.5 mg\":\n",
    "        await page.locator('label:has-text(\"2.5 mg\")').click();\n",
    "    elif glp1dose == \"5 mg\":\n",
    "        await page.locator('label:has-text(\"5 mg\")').click();\n",
    "    elif glp1dose == \"7.5 mg\":\n",
    "        await page.locator('label:has-text(\"7.5 mg\")').click();\n",
    "    elif glp1dose == \"10 mg\":\n",
    "        await page.locator('label:has-text(\"10 mg\")').click();\n",
    "    elif glp1dose == \"12.5 mg\":\n",
    "        await page.locator('label:has-text(\"12.5 mg\")').click();\n",
    "    elif glp1dose == \"15 mg\":\n",
    "        await page.locator('label:has-text(\"15 mg\")').click();\n",
    "    await asyncio.sleep(2)\n",
    "\n",
    "    return print(f'Last GLP-1 dose: {glp1dose}')"
   ]
  },
  {
   "cell_type": "code",
   "execution_count": 101,
   "id": "4f7e82ea-9fc9-4bd1-b172-93369e599170",
   "metadata": {},
   "outputs": [],
   "source": [
    "## await glp1_dose('10 mg')"
   ]
  },
  {
   "cell_type": "code",
   "execution_count": 102,
   "id": "a4fffb80-3424-487b-9558-b1fb59a40e1f",
   "metadata": {},
   "outputs": [],
   "source": [
    "async def glp1_effects(effects):\n",
    "\n",
    "    if effects == \"No\":\n",
    "        await page.locator('label:has-text(\"No\")').click();\n",
    "    if effects == \"Yes\":\n",
    "        await page.locator('label:has-text(\"Yes\")').click();\n",
    "    await asyncio.sleep(2)\n",
    "\n",
    "    return print(f'Did you have GLP-1 side effects: {effects}')"
   ]
  },
  {
   "cell_type": "code",
   "execution_count": 103,
   "id": "38621e27-2f6b-44c8-9517-4a6856de17c6",
   "metadata": {},
   "outputs": [],
   "source": [
    "## await glp1_effects('Yes')"
   ]
  },
  {
   "cell_type": "code",
   "execution_count": 104,
   "id": "e047a478-217a-4923-ae54-849fde1db499",
   "metadata": {},
   "outputs": [],
   "source": [
    "async def glp1_side(glp1side):\n",
    "\n",
    "    if glp1side == \"Nausea\":\n",
    "        await page.locator('label:has-text(\"Nausea\")').click();\n",
    "    elif glp1side == \"Heartburn\":\n",
    "        await page.locator('label:has-text(\"Heartburn\")').click();\n",
    "    elif glp1side == \"Constipation\":\n",
    "        await page.locator('label:has-text(\"Constipation\")').click();\n",
    "    elif glp1side == \"Diarrhea\":\n",
    "        await page.locator('label:has-text(\"Diarrhea\")').click();\n",
    "    await asyncio.sleep(.5)\n",
    "    await click_continue()\n",
    "\n",
    "    return print(f'Chose GLP-1 side effect: {glp1side}')"
   ]
  },
  {
   "cell_type": "code",
   "execution_count": 105,
   "id": "e51f7e70-f60e-49e0-acdb-175ad59fd0fd",
   "metadata": {},
   "outputs": [],
   "source": [
    "## await glp1_side('Diarrhea')"
   ]
  },
  {
   "cell_type": "code",
   "execution_count": 106,
   "id": "f7a2ff6d-fd62-46a0-b119-10f3003462ec",
   "metadata": {},
   "outputs": [],
   "source": [
    "async def supplements_choice(supplements):\n",
    "\n",
    "    if supplements == \"No\":\n",
    "        await page.locator('label:has-text(\"No\")').click();\n",
    "    if supplements == \"Yes\":\n",
    "        await page.locator('label:has-text(\"Yes\")').click();\n",
    "    await asyncio.sleep(2)\n",
    "\n",
    "    return print(f'Are you taking any other meds or supplements: {supplements}')"
   ]
  },
  {
   "cell_type": "code",
   "execution_count": 107,
   "id": "a6ed4ed8-7324-4b30-9b7c-a77965a2f8be",
   "metadata": {},
   "outputs": [],
   "source": [
    "## await supplements_choice('No')"
   ]
  },
  {
   "cell_type": "code",
   "execution_count": 108,
   "id": "00fb8c2d-cf80-4f85-8222-dedd60034ced",
   "metadata": {},
   "outputs": [],
   "source": [
    "async def allergies_choice(allergies):\n",
    "\n",
    "    if allergies == \"No\":\n",
    "        await page.locator('label:has-text(\"No\")').click();\n",
    "    if allergies == \"Yes\":\n",
    "        await page.locator('label:has-text(\"Yes\")').click();\n",
    "    await asyncio.sleep(2)\n",
    "\n",
    "    return print(f'Do you have any allergies: {allergies}')"
   ]
  },
  {
   "cell_type": "code",
   "execution_count": 109,
   "id": "ab681e70-a579-4bb1-90bd-9632bbaa0179",
   "metadata": {},
   "outputs": [],
   "source": [
    "## await allergies_choice('Yes')"
   ]
  },
  {
   "cell_type": "code",
   "execution_count": 110,
   "id": "c6c7e90a-6652-4039-9c45-7fbe9d9cf095",
   "metadata": {},
   "outputs": [],
   "source": [
    "async def allergy_list(allergy):\n",
    "\n",
    "    target_form = page.locator('//*[@id=\"searchTerm\"]')\n",
    "    await target_form.fill(allergy)\n",
    "    await asyncio.sleep(1)\n",
    "    await page.get_by_role(\"button\").nth(1).click()\n",
    "    await asyncio.sleep(2)\n",
    "    await click_continue()\n",
    "\n",
    "    return print(f'Chose allergy: {allergy}')"
   ]
  },
  {
   "cell_type": "code",
   "execution_count": 111,
   "id": "b3a55d33-0539-42dd-8707-6ccddaa3e97e",
   "metadata": {},
   "outputs": [],
   "source": [
    "## await allergy_list('penicillin')"
   ]
  },
  {
   "cell_type": "code",
   "execution_count": 112,
   "id": "073552de-1903-430c-b701-433a8ea8f7d5",
   "metadata": {},
   "outputs": [],
   "source": [
    "async def alcohol_choice(alcohol):\n",
    "\n",
    "    if alcohol == \"Never\":\n",
    "        await page.locator('label:has-text(\"Never\")').click();\n",
    "    elif alcohol == \"A few times a year\":\n",
    "        await page.locator('label:has-text(\"A few times a year\")').click();\n",
    "    elif alcohol == \"Once a month\":\n",
    "        await page.locator('label:has-text(\"Once a month\")').click();\n",
    "    elif alcohol == \"Once a week\":\n",
    "        await page.locator('label:has-text(\"Once a week\")').click();\n",
    "    elif alcohol == \"Daily or almost daily\":\n",
    "        await page.locator('label:has-text(\"Daily or almost daily\")').click();\n",
    "    await asyncio.sleep(2)\n",
    "\n",
    "    return print(f'Chose alcohol consumption: {alcohol}')"
   ]
  },
  {
   "cell_type": "code",
   "execution_count": 113,
   "id": "7617ff71-952c-4d30-9944-a64bb39cd63a",
   "metadata": {},
   "outputs": [],
   "source": [
    "## await alcohol_choice('Once a month')"
   ]
  },
  {
   "cell_type": "code",
   "execution_count": 114,
   "id": "5d9f0316-5fdd-4999-adda-783119318f23",
   "metadata": {},
   "outputs": [],
   "source": [
    "async def drug_choice(drug):\n",
    "\n",
    "    if drug == \"Cocaine\":\n",
    "        await page.locator('label:has-text(\"Cocaine\")').click();\n",
    "    elif drug == \"Opiates/opioids\":\n",
    "        await page.locator('label:has-text(\"Opiates/opioids\")').click();\n",
    "    elif drug == \"Methamphetamine\":\n",
    "        await page.locator('label:has-text(\"Methamphetamine\")').click();\n",
    "    elif drug == \"Cannabis\":\n",
    "        await page.locator('label:has-text(\"Cannabis\")').click();\n",
    "    elif drug == \"No, none of these\":\n",
    "        await page.locator('label:has-text(\"No, none of these\")').click();\n",
    "    await asyncio.sleep(.3)\n",
    "    await click_continue()\n",
    "\n",
    "    return print(f'Chose drugs taken: {drug}')"
   ]
  },
  {
   "cell_type": "code",
   "execution_count": 115,
   "id": "d12b7384-dec2-4dab-9ba9-dc4c4ae059ba",
   "metadata": {},
   "outputs": [],
   "source": [
    "## await drug_choice('Cannabis')"
   ]
  },
  {
   "cell_type": "code",
   "execution_count": 116,
   "id": "1441abe7-5115-4410-b1bf-341c99f19fdf",
   "metadata": {},
   "outputs": [],
   "source": [
    "async def opioid_choice(opioid):\n",
    "\n",
    "    if opioid == \"No\":\n",
    "        await page.locator('label:has-text(\"No\")').click();\n",
    "    if opioid == \"Yes\":\n",
    "        await page.locator('label:has-text(\"Yes\")').click();\n",
    "    await asyncio.sleep(2)\n",
    "\n",
    "    return print(f'Taken opioid in last 6 months: {opioid}')"
   ]
  },
  {
   "cell_type": "code",
   "execution_count": 117,
   "id": "65f01aaf-79ee-4cc3-9e27-ea9f986a20a8",
   "metadata": {},
   "outputs": [],
   "source": [
    "## await opioid_choice('Yes')"
   ]
  },
  {
   "cell_type": "code",
   "execution_count": 118,
   "id": "bd3322fd-c3b2-4ab6-8bed-4d9cb4eb660c",
   "metadata": {},
   "outputs": [],
   "source": [
    "async def naltrexone_disclosure():\n",
    "\n",
    "    await page.locator('label:has-text(\"I understand\")').click();\n",
    "    await asyncio.sleep(2.2)"
   ]
  },
  {
   "cell_type": "code",
   "execution_count": 119,
   "id": "7590b0cb-37e8-449f-9e09-0b61e39ea3d4",
   "metadata": {},
   "outputs": [],
   "source": [
    "async def cannabis_disclosure():\n",
    "\n",
    "    await page.locator('label:has-text(\"I understand\")').click();\n",
    "    await asyncio.sleep(2.2)"
   ]
  },
  {
   "cell_type": "code",
   "execution_count": 120,
   "id": "a4b1b45b-dac2-45cc-8a28-b4dbccd37556",
   "metadata": {},
   "outputs": [],
   "source": [
    "async def nicotine_choice(nicotine):\n",
    "\n",
    "    if nicotine == \"No\":\n",
    "        await page.locator('label:has-text(\"No\")').click();\n",
    "    if nicotine == \"Yes\":\n",
    "        await page.locator('label:has-text(\"Yes\")').click();\n",
    "    await asyncio.sleep(2)\n",
    "\n",
    "    return print(f'Are you using nicotine replacement: {nicotine}')"
   ]
  },
  {
   "cell_type": "code",
   "execution_count": 121,
   "id": "d1d21ae7-0d58-4303-9280-18f8bfd2dd73",
   "metadata": {},
   "outputs": [],
   "source": [
    "## await nicotine_choice('Yes')"
   ]
  },
  {
   "cell_type": "code",
   "execution_count": 122,
   "id": "81a3bc98-06f4-4c14-869e-550c6f023e96",
   "metadata": {},
   "outputs": [],
   "source": [
    "async def nicotine_disclosure():\n",
    "\n",
    "    await page.locator('label:has-text(\"I understand\")').click();\n",
    "    await asyncio.sleep(2.2)"
   ]
  },
  {
   "cell_type": "code",
   "execution_count": 123,
   "id": "ed6dac97-1b1a-4dd3-81ad-f561d5d380b7",
   "metadata": {},
   "outputs": [],
   "source": [
    "async def bp_choice(bp):\n",
    "\n",
    "    if bp == \"Within the last 18 months\":\n",
    "        await page.locator('label:has-text(\"Within the last 18 months\")').click();\n",
    "    if bp == \"More than 18 months ago\":\n",
    "        await page.locator('label:has-text(\"More than 18 months ago\")').click();\n",
    "    await asyncio.sleep(2)\n",
    "\n",
    "    return print(f'Last blood pressure check: {bp}')"
   ]
  },
  {
   "cell_type": "code",
   "execution_count": 124,
   "id": "4da6c74a-db56-4d8e-9fca-7e4d230338fc",
   "metadata": {},
   "outputs": [],
   "source": [
    "## await bp_choice('Within the last 18 months')"
   ]
  },
  {
   "cell_type": "code",
   "execution_count": 125,
   "id": "2b5a9e8e-c6a7-4969-86a0-875b5e65a41a",
   "metadata": {},
   "outputs": [],
   "source": [
    "async def bp_level(bptop, bpbottom):\n",
    "\n",
    "    if bptop == \"Less than 90\":\n",
    "        await page.locator('label:has-text(\"Less than 90\")').click();\n",
    "    elif bptop == \"90-139\":\n",
    "        await page.locator('label:has-text(\"90-139\")').click();\n",
    "    elif bptop == \"140-169\":\n",
    "        await page.locator('label:has-text(\"140-169\")').click();\n",
    "    elif bptop == \"170 or higher\":\n",
    "        await page.locator('label:has-text(\"170 or higher\")').click();\n",
    "    await asyncio.sleep(.5)\n",
    "    if bpbottom == \"Less than 50\":\n",
    "        await page.locator('label:has-text(\"Less than 50\")').click();\n",
    "    elif bpbottom == \"50-80\":\n",
    "        await page.locator('label:has-text(\"50-80\")').click();\n",
    "    elif bpbottom == \"81-99\":\n",
    "        await page.locator('label:has-text(\"81-99\")').click();\n",
    "    elif bpbottom == \"100 or higher\":\n",
    "        await page.locator('label:has-text(\"100 or higher\")').click();\n",
    "    await asyncio.sleep(.3)\n",
    "    await click_continue()\n",
    "    await asyncio.sleep(2)\n",
    "\n",
    "    return print(f'Chose blood pressure: {bptop} over {bpbottom}')"
   ]
  },
  {
   "cell_type": "code",
   "execution_count": 126,
   "id": "9b5cc124-4cc5-473e-9ff0-41a78d621cea",
   "metadata": {},
   "outputs": [],
   "source": [
    "## await bp_level(patient_info['bptop'], patient_info['bpbottom'])"
   ]
  },
  {
   "cell_type": "code",
   "execution_count": 127,
   "id": "46fc6147-4adb-4151-add7-918104990ebb",
   "metadata": {},
   "outputs": [],
   "source": [
    "async def craving_frequency(crave_freq):\n",
    "\n",
    "    if crave_freq == \"Nearly every day\":\n",
    "        await page.locator('label:has-text(\"Nearly every day\")').click();\n",
    "    elif crave_freq == \"Multiple times per day\":\n",
    "        await page.locator('label:has-text(\"Multiple times per day\")').click();\n",
    "    elif crave_freq == \"24/7\":\n",
    "        await page.locator('label:has-text(\"24/7\")').click();\n",
    "    elif crave_freq == \"Not sure\":\n",
    "        await page.locator('label:has-text(\"Not sure\")').click();\n",
    "    await asyncio.sleep(2)\n",
    "\n",
    "    return print(f'Chose craving frequency: {crave_freq}')"
   ]
  },
  {
   "cell_type": "code",
   "execution_count": 128,
   "id": "df46a1d4-cf0d-465f-b3d1-51ddb1a87b50",
   "metadata": {},
   "outputs": [],
   "source": [
    "## await craving_frequency(patient_info['crave_freq'])"
   ]
  },
  {
   "cell_type": "code",
   "execution_count": 129,
   "id": "ff4fff07-5efb-4583-bb6c-5cc11723ed1b",
   "metadata": {},
   "outputs": [],
   "source": [
    "async def resting_rate(resting):\n",
    "\n",
    "    if resting == \"I don't know\":\n",
    "        await page.locator('label:has-text(\"I don\")').click();\n",
    "    elif resting == \"<70 beats per minute\":\n",
    "        await page.locator('label:has-text(\"<70 beats per minute\")').click();\n",
    "    elif resting == \"70 - 79 beats per minute\":\n",
    "        await page.locator('label:has-text(\"70 - 79 beats per minute\")').click();\n",
    "    elif resting == \"80 - 99 beats per minute\":\n",
    "        await page.locator('label:has-text(\"80 - 99 beats per minute\")').click();\n",
    "    elif resting == \"100 or more beats per minute\":\n",
    "        await page.locator('label:has-text(\"100 or more beats per minute\")').click();\n",
    "    await asyncio.sleep(2)\n",
    "\n",
    "    return print(f'Chose resting heart rate: {resting}')"
   ]
  },
  {
   "cell_type": "code",
   "execution_count": 130,
   "id": "37b70b5b-800a-486b-897f-c731dddd61f4",
   "metadata": {},
   "outputs": [],
   "source": [
    "## await resting_rate('80 - 99 beats per minute')"
   ]
  },
  {
   "cell_type": "code",
   "execution_count": 131,
   "id": "9e3b29c8-0de2-4a59-9dba-482e9bab6768",
   "metadata": {},
   "outputs": [],
   "source": [
    "async def med_sides(medsides):\n",
    "\n",
    "    if medsides == \"Never\":\n",
    "        await page.locator('label:has-text(\"Never\")').click();\n",
    "    elif medsides == \"Rarely\":\n",
    "        await page.locator('label:has-text(\"Rarely\")').click();\n",
    "    elif medsides == \"Sometimes\":\n",
    "        await page.locator('label:has-text(\"Sometimes\")').click();\n",
    "    elif medsides == \"Often\":\n",
    "        await page.locator('label:has-text(\"Often\")').click();\n",
    "    elif medsides == \"Always\":\n",
    "        await page.locator('label:has-text(\"Always\")').click();\n",
    "    await asyncio.sleep(2)\n",
    "\n",
    "    return print(f'Get side effects from meds: {medsides}')"
   ]
  },
  {
   "cell_type": "code",
   "execution_count": 132,
   "id": "6e7b14d8-b8da-4b28-97fd-8d541e1178e7",
   "metadata": {},
   "outputs": [],
   "source": [
    "## await med_sides('Rarely')"
   ]
  },
  {
   "cell_type": "code",
   "execution_count": 133,
   "id": "22de2426-a959-4102-9eda-07cf2f295bcd",
   "metadata": {},
   "outputs": [],
   "source": [
    "async def nausea_rating(nausea):\n",
    "\n",
    "    if nausea == \"1\":\n",
    "        await page.locator('label:has-text(\"1\")').click();\n",
    "    elif nausea == \"2\":\n",
    "        await page.locator('label:has-text(\"2\")').click();\n",
    "    elif nausea == \"3\":\n",
    "        await page.locator('label:has-text(\"3\")').click();\n",
    "    elif nausea == \"4\":\n",
    "        await page.locator('label:has-text(\"4\")').click();\n",
    "    elif nausea == \"5\":\n",
    "        await page.locator('label:has-text(\"5\")').click();\n",
    "    await asyncio.sleep(2)\n",
    "\n",
    "    return print(f'How worried about nausea: {nausea}')"
   ]
  },
  {
   "cell_type": "code",
   "execution_count": 134,
   "id": "23a65ad0-80f7-4e1a-a0ce-229792fa8ac7",
   "metadata": {},
   "outputs": [],
   "source": [
    "## await nausea_rating('2')"
   ]
  },
  {
   "cell_type": "code",
   "execution_count": 135,
   "id": "f4a41811-b964-49e9-8a96-7b2c21aa7027",
   "metadata": {},
   "outputs": [],
   "source": [
    "async def other_products():\n",
    "\n",
    "    await page.locator('label:has-text(\"None of these\")').click();\n",
    "    await asyncio.sleep(.2)\n",
    "    await click_continue()"
   ]
  },
  {
   "cell_type": "code",
   "execution_count": 136,
   "id": "b7c43be6-b76c-4af1-9caa-c2ffa6911247",
   "metadata": {},
   "outputs": [],
   "source": [
    "async def ethnicity_choice(ethnicity):\n",
    "\n",
    "    if ethnicity == \"South Asian\":\n",
    "        await page.locator('label:has-text(\"South Asian\")').click();\n",
    "    elif ethnicity == \"Asian\":\n",
    "        await page.locator('label:has-text(\"Asian\")').click();\n",
    "    elif ethnicity == \"Black or African American\":\n",
    "        await page.locator('label:has-text(\"Black or African American\")').click();\n",
    "    elif ethnicity == \"Hispanic or Latino\":\n",
    "        await page.locator('label:has-text(\"Hispanic or Latino\")').click();\n",
    "    elif ethnicity == \"Native American\":\n",
    "        await page.locator('label:has-text(\"Native American\")').click();\n",
    "    elif ethnicity == \"Pacific Islander\":\n",
    "        await page.locator('label:has-text(\"Pacific Islander\")').click();\n",
    "    elif ethnicity == \"White\":\n",
    "        await page.locator('label:has-text(\"White\")').click();\n",
    "    elif ethnicity == \"Other\":\n",
    "        await page.locator('label:has-text(\"Other\")').click();\n",
    "    elif ethnicity == \"I prefer not to answer\":\n",
    "        await page.locator('label:has-text(\"Other\")').click();\n",
    "    await asyncio.sleep(.5)\n",
    "    await click_continue()\n",
    "\n",
    "    return print(f'Chose ethnicity: {ethnicity}')"
   ]
  },
  {
   "cell_type": "code",
   "execution_count": 137,
   "id": "226f09b3-b4d9-42f5-84c2-b2f5e7bc45ad",
   "metadata": {},
   "outputs": [],
   "source": [
    "## await ethnicity_choice('White')"
   ]
  },
  {
   "cell_type": "code",
   "execution_count": 138,
   "id": "c1f47ca5-98f3-4b0c-b09e-cd4b5aa80c9c",
   "metadata": {},
   "outputs": [],
   "source": [
    "async def anything_else():\n",
    "\n",
    "    await page.locator('label:has-text(\"No\")').click();\n",
    "    await asyncio.sleep(2)\n",
    "\n"
   ]
  },
  {
   "cell_type": "code",
   "execution_count": 139,
   "id": "f2afc015-df0a-4726-8dd0-185009d149fb",
   "metadata": {},
   "outputs": [],
   "source": [
    "## await anything_else()"
   ]
  },
  {
   "cell_type": "code",
   "execution_count": 140,
   "id": "ebb4c7d8-4b2f-444b-907f-568c57afbf00",
   "metadata": {},
   "outputs": [],
   "source": [
    "async def glp1_shortage():\n",
    "    await page.locator('label:has-text(\"No\")').click();\n",
    "    await asyncio.sleep(2)"
   ]
  },
  {
   "cell_type": "code",
   "execution_count": 141,
   "id": "3448d2c3-374e-47ac-a33a-0d558a43899d",
   "metadata": {},
   "outputs": [],
   "source": [
    "async def get_bmi():\n",
    "    bmi = await page.inner_html('//*[@id=\"root\"]/div/div/div/div/article/div[2]/div[1]/span[2]')\n",
    "    patient_info['bmi'] = bmi\n",
    "    await asyncio.sleep(1)\n",
    "    await click_next()\n",
    "\n",
    "    return print(f'BMI recorded as {bmi}')"
   ]
  },
  {
   "cell_type": "code",
   "execution_count": 142,
   "id": "f6938ea1-d69e-4596-8357-b9e7c9988b12",
   "metadata": {},
   "outputs": [],
   "source": [
    "async def get_recommendation():\n",
    "    recommendation = await page.inner_html('//*[@id=\"root\"]/div[1]/div/div/div/div/article/div[1]/div[3]/div/div/div/div/div/div/div/div[1]/div/div[2]/div/span')\n",
    "    patient_info['recommendation'] = recommendation\n",
    "\n",
    "    return print(f'Recommendation is: {recommendation}')"
   ]
  },
  {
   "cell_type": "code",
   "execution_count": 293,
   "id": "83dcf575-76a5-44f7-be35-fdcf1e296d14",
   "metadata": {},
   "outputs": [],
   "source": [
    "## await get_recommendation()"
   ]
  },
  {
   "cell_type": "markdown",
   "id": "31795941-5429-475f-a591-a3f387284d42",
   "metadata": {},
   "source": [
    "## Defining the patient_info dictionary\n"
   ]
  },
  {
   "cell_type": "code",
   "execution_count": 143,
   "id": "b37fb537-0e69-43cb-916a-a5a24a3fcf65",
   "metadata": {},
   "outputs": [],
   "source": [
    "## Patient info dictionary\n",
    "\n",
    "patient_info = {\n",
    "## goal = the number of pounds you want to lose (intenger)\n",
    "'goal' : 25,\n",
    "## state = the state where medication will be shipped (string)\n",
    "'state' : 'Kansas',\n",
    "## dob = date of birth (string - MM-DD-YY)\n",
    "'dob' : '02-22-1992',\n",
    "## diet_number = how often tried to lose weight (integer <= 10)\n",
    "'diet_number' : \"1-5\",\n",
    "## crave_freq = how frequently you think about eating (string - \"Nearly every day\" OR \"Multiple times per day\" OR \"24/7\" OR \"Not sure)\n",
    "'crave_freq' : 'Multiple times per day',\n",
    "## family_history = Does family have a history of weight struggles (string - 'Yes' OR 'No' OR 'I don't know')\n",
    "'family_history' : 'Yes',\n",
    "## stress = how frequently stressed (string - 'I rarely feel stressed' OR 'I feel stressed a few times a week' OR 'I feel stressed all the time')\n",
    "'stress' : 'I feel stressed all the time',\n",
    "## sleep = number of hours slept nighly (integer)\n",
    "'sleep' : 8,\n",
    "## area = where you hold your weight (string - 'Around my stomach or waist' OR 'Hips and thighs' OR 'All over')\n",
    "'area' : 'All over',\n",
    "## craving = type of food craved (string - 'Sweet' OR 'Salty' OR 'Both' OR \"I don't have cravings\")\n",
    "'craving' : 'Sweet',\n",
    "## habit = type of eating habit (string - \"I'm usually multitasking when I eat\" OR \"I tend to snack when I'm stressed\" OR 'I turn to food for comfort' OR 'I often reward myself with food' OR 'I center my social life around dining out')\n",
    "'habit' : 'I turn to food for comfort',\n",
    "## focus = other focuses of your program (string - \"Realistic nutrition plan\" OR \"Movement that works for you\" OR 'Getting better sleep' OR 'Building healthier habits' OR 'All of the above') \n",
    "'focus' : 'Realistic nutrition plan',\n",
    "## meaning = what reaching goal would mean to you (string - \"Having more energy\" OR \"Feeling more confident\" OR 'Improving overall health' OR 'Feeling better in my body' OR 'Feeling good in clothes') \n",
    "'meaning' : 'Having more energy',\n",
    "## feet and inches = height (string - as separate variables)\n",
    "'feet' : '5',\n",
    "'inches' : '9',\n",
    "## pounds = weight (string)\n",
    "'pounds' : '190',\n",
    "## most = Are you currently the heaviest you've ever weighed? (string - 'Yes' or 'No')\n",
    "'most' : 'Yes',\n",
    "## sex = sex at birth (string 'Male' OR 'Female')\n",
    "'sex' : 'Male',\n",
    "## pregnant = Are you pregnant (string - 'Yes' OR 'No' OR 'Trying')\n",
    "'pregnant' : 'No',\n",
    "## breastfeeding = Are you breastfeeding? (string - 'Yes' OR 'No'\n",
    "'breastfeeding' : 'No',\n",
    "## identity = Do you identify as male? (string - 'Yes' OR 'No')\n",
    "'identity' : 'Yes',\n",
    "## gender = What gender do you identify with (string 'Man' OR 'Woman' OR 'Genderqueer' OR 'Non-binary' OR 'Agender' OR 'Questioning'\n",
    "'gender' : 'Man',\n",
    "## disorder = eating disorder symptoms answer (string - \"Causing yourself to vomit in order to lose weight\" OR \"Frequently eating very large amounts of food and feeling like you can't stop eating\" OR 'Severely limiting the amount of food you eat due to an intense fear of gaining weight' OR 'None of these')\n",
    "'disorder' : \"None of these\",\n",
    "## diagnosis = eating disorder diagonosis (string - 'Anorexia' OR 'Bulimia' OR 'Binge eating disorder' OR 'None of these')\n",
    "'diagnosis' : 'Anorexia',\n",
    "## remission = eating disorder remission status (string - \"No, I have been in remission for less than one year\" OR \"No, I am currently being treated\" OR 'Yes, I have been in remission for one year or more')\n",
    "'remission' : 'No, I am currently being treated',\n",
    "## purge = purged in last 12 months? (string - 'Yes' OR 'No')\n",
    "'purge' : 'Yes',\n",
    "## frequency = frequency of purges in last 3 months (string - \"About once a week\" OR \"About once a month\" OR 'Not at all')\n",
    "'frequency' : 'About once a month',\n",
    "## psycotherapy = are you currently in psycotherapy (string - 'Yes' OR 'No')\n",
    "'psycotherapy' : 'No',\n",
    "## mental = have you been diagnosed mental health condition? (string - 'Yes' OR 'No')\n",
    "'mental' : 'No',\n",
    "## condition = what mental health condition you've been diagnosed with (string - 'Depression' OR 'Generalized anxiety' OR 'Bipolar disease (manic depression)' OR 'Panic attack' OR 'Psychiatric hospitalization within the last 3 months' OR 'Borderline personality disorder' OR 'Psychosis' OR 'Schizophrenia or schizoaffective disorder')\n",
    "'condition' : 'Depression',\n",
    "## medication = taking mental health medication? (string - 'Yes' OR 'No')\n",
    "'medication' : 'No',\n",
    "## medlist = the medication you are taking (string - takes whatever input provided and selects the first option from a dropdown)\n",
    "'medlist' : 'Sertraline',\n",
    "## suicidal = are you having suicidal/harm thoughts (string - 'Yes' OR 'No')\n",
    "'suicidal' : 'No',\n",
    "## chronic = Do you have chronic or medical diseases (string - 'Yes' OR 'No')\n",
    "'chronic' : 'No',\n",
    "## kidney = Do you have any of these conditions (string - 'Acute or chronic kidney disease (CKD)' OR 'Kidney stones' OR 'No, none of these')\n",
    "'kidney' : 'Kidney stones',\n",
    "## medical = choose medical conditions (string - long list, see medical_condition function above)\n",
    "'medical' : 'Diabetes (Type 1)',\n",
    "## other = diagnosed with other medical conditions (string - 'Yes' OR 'No')\n",
    "'other' : 'No',\n",
    "## familymed = family history of other diagnoses (string - multiple options, always going with 'No, None of these' for now)\n",
    "'familymed' : 'No, none of these',\n",
    "## cardiac = Has anyone under 65 in family died from cardiac event (string - always 'No' for now)\n",
    "'cardiac' : 'No',\n",
    "## surgery = Have you had surgeries in past? (string - always 'No' for now)\n",
    "'surgery' : 'No',\n",
    "## glp1 = history of taking glp1 medications (string - \"I am currently taking a GLP-1 medication\" OR \"I have taken a GLP-1 medication in the past but I'm not currently\" OR \"I have never taken a GLP-1 medication\")\n",
    "'glp1' : \"I have never taken a GLP-1 medication\",\n",
    "## glp1med = which GLP-1 med you've taken (string - \"Injectable liraglutide\" OR \"Injectable tirzepatide\" OR \"Injectable semaglutide\")\n",
    "'glp1med' : \"Injectable semaglutide\",\n",
    "## glp1last = when last used GLP-1 (string - \"Within the last 2 weeks\" OR \"2-4 weeks ago\" OR \"Over 4 weeks ago\")\n",
    "'glp1last' : 'Over 4 weeks ago',\n",
    "## glp1dose = what was last dose of GLP-1 (string - many options, see glp1_dose function above)\n",
    "'glp1dose' : '1 mg',\n",
    "## effects = did you have side effects from GLP-1 (string - 'Yes' OR 'No')\n",
    "'effects' : 'Yes',\n",
    "## glp1side = which side effects from GLP-1 (string - 'Nausea' OR 'Heartburn' OR 'Constipation' OR 'Diarrhea')\n",
    "'glp1side' : 'Heartburn',\n",
    "## supplements = Are you taking other meds/supplements (string - 'Yes' OR 'No')\n",
    "'supplements' : 'No',\n",
    "## allergies = do you have allergies (string - 'Yes' OR 'No')\n",
    "'allergies' : 'Yes',\n",
    "## allergy = choosing the allergy you have (string - activates dropdown menu)\n",
    "'allergy' : 'penicillin',\n",
    "## alcohol = how often consume 5 or more drinks in one occasion (string - \"Never\" OR \"A few times a year\" OR \"Once a month\" OR \"Once a week\" OR \"Daily or almost daily\")\n",
    "'alcohol' : 'Once a week',\n",
    "## drug == which drugs taken in past 6 months (string - \"Cocaine\" OR \"Opiates/opioids\" OR \"Methamphetamine\" OR \"Cannabis\" OR \"No, none of these\")\n",
    "'drug' : 'Cannabis',\n",
    "## opioid == have you taken opioids in the last 6 months (string - \"Yes\" OR \"No\")\n",
    "'opioid' : 'Yes',    \n",
    "## nicotine == are you taking nicotine replacement (string - 'Yes' OR 'No')\n",
    "'nicotine' : 'No',\n",
    "## bp = when last blood pressure check (string - \"Within the last 18 months\" OR \"More than 18 months ago\")\n",
    "'bp' : 'Within the last 18 months',\n",
    "## bptop = top blood pressure number (string - \"Less than 90\" OR \"90-139\" OR \"140-169\" OR \"170 or higher\")\n",
    "'bptop' : '90-139',\n",
    "## bpbottom = bottom blood pressure number (string - \"Less than 50\" OR \"50-80\" OR \"81-99\" OR \"100 or higher\")\n",
    "'bpbottom' : '50-80',\n",
    "## resting = resting heart rate (string - \"I don't know\" OR \"<70 beats per minute\" OR \"70 - 90 beats per minute\" OR \"80 - 99 beats per minute\" OR \"100 or more beats per minute\")\n",
    "'resting' : \"80 - 99 beats per minute\",\n",
    "## medsides = do you get side effects from meds (string - \"Never\" OR \"Rarely\" OR \"Sometimes\" OR \"Often\" OR \"Always\")\n",
    "'medsides' : 'Rarely',\n",
    "## nausea = how worried about nausea are you ( string - \"1\" OR \"2\" OR \"3\" OR \"4\" Or \"5\")\n",
    "'nausea' : '1',\n",
    "## ethnicity - choose ethnicity (string \"South Asian\" OR \"Black or African American\" OR \"Hispanic or Latino\" OR \"White\" OR \"Pacific Islander\" OR \"Other\" OR \"I prefer not to answer\" note: \"Asian\" isn't currently working)\n",
    "'ethnicity' : 'White',\n",
    "    \n",
    "}\n",
    "\n",
    "## target = 'pounds' - 'goal' (string)\n",
    "patient_info['target'] = str((int(patient_info['pounds']) - patient_info['goal']))\n"
   ]
  },
  {
   "cell_type": "markdown",
   "id": "f43c0902-5574-4b25-a8b4-e67d2872f8ac",
   "metadata": {},
   "source": [
    "## Defining the main scraper functions"
   ]
  },
  {
   "cell_type": "code",
   "execution_count": 148,
   "id": "af08c566-9b35-4282-a8b7-2f5785905618",
   "metadata": {},
   "outputs": [],
   "source": [
    "## A function that finds what page the form is on, enters the relevant information from patient_info, and proceeds to the next page\n",
    "\n",
    "async def find_page(patient_info):\n",
    "\n",
    "    ## pages by number, for pages that have unique urls\n",
    "    page1 = \"https://www.hims.com/c/wm/introduction\"\n",
    "    page2 = \"https://www.hims.com/c/wm/your-goal\"\n",
    "    page3 = \"https://www.hims.com/c/wm/your-goal-transition\"\n",
    "    page4 = \"https://www.hims.com/c/wm/no-of-programs-tried\"\n",
    "    page5 = \"https://www.hims.com/c/wm/wl-reassurance\"\n",
    "    page6 = \"https://www.hims.com/c/wm/select-state\"\n",
    "    page7 = \"https://www.hims.com/c/wm/date-of-birth\"\n",
    "    page8 = \"https://www.hims.com/c/wm/good-to-go-transition\"\n",
    "    page9 = \"https://www.hims.com/c/wm/any-family-with-weight-struggle\"\n",
    "    page10 = \"https://www.hims.com/c/wm/not-fate\"\n",
    "    page11 = \"https://www.hims.com/c/wm/daily-life-stress-level\"\n",
    "    page12 = \"https://www.hims.com/c/wm/quality-sleep\"\n",
    "    page13 = \"https://www.hims.com/c/wm/quality-sleep-transition\"\n",
    "    page14 = \"https://www.hims.com/c/wm/weight-hold-sites\"\n",
    "    page15 = \"https://www.hims.com/c/wm/hormone-influence\"\n",
    "    page17 = \"https://www.hims.com/c/wm/eating-patterns\"\n",
    "    page18 = \"https://www.hims.com/c/wm/eating-pattern-program-support\"\n",
    "    page19 = \"https://www.hims.com/c/wm/eating-pattern-goal\"\n",
    "    page20 = \"https://www.hims.com/c/wm/account\"\n",
    "    page21 = \"https://www.hims.com/c/wm/intake-up-next\"\n",
    "    page22 = \"https://www.hims.com/c/wm/intake-height-weight\"\n",
    "    page24 = \"https://www.hims.com/c/wm/medical-intake?offset=2\"\n",
    "    page25 = \"https://www.hims.com/c/wm/what-to-expect\"\n",
    "    page26 = \"https://www.hims.com/c/wm/tailored-to-you\"\n",
    "    page27 = \"https://www.hims.com/c/wm/expert-support\"\n",
    "    page28 = \"https://www.hims.com/c/wm/safety-and-quality\"\n",
    "    final_rec = \"https://www.hims.com/c/wm/recommended-product\"\n",
    "    \n",
    "\n",
    "    numbered_pages = [ page1, page2, page3, page4, page5, page6, page7, page8, page9, page10, page11, page12, page13, page14, page15, page17, page18, page19, page20, page21, page22, page24, page25, page26, page27, page28]\n",
    "    \n",
    "    ## page headlines for pages without unique urls\n",
    "    crave_freq = \"How often do you find yourself thinking about what or how much to eat\"\n",
    "    crave_type = \"what type of food do you usually go for\"\n",
    "    sex = \"What was your sex assigned at birth?\"\n",
    "    pregnant = \"Are you currently pregnant or trying to become pregnant?\"\n",
    "    identity = \"Do you identify as a man?\"\n",
    "    gender = \"What gender do you most identify with? \"\n",
    "    breastfeeding = \"Are you currently breastfeeding?\"\n",
    "    disorder = \"Have you ever experienced any of these symptoms?\"\n",
    "    diagnosis = \"Have you been diagnosed with any of the following conditions?\"\n",
    "    remission = \"Have you been in remission from your anorexia or bulimia eating disorder for one year or more?\"\n",
    "    be_aware = \"Please be aware that purging (self-induced vomiting with or without the use of laxatives or diuretics/water pills), severely restricting your calories, or falling below a BMI of 18.5 (underweight) at any time while using a weight loss medication can increase your risk of electrolyte imbalance and potential for seizures. If you begin purging or severely restricting at any time while on treatment, please alert our Care Team and your primary care provider so that appropriate modifications to your treatment plan can be made to ensure your safety and continued success on your weight loss journey.\"\n",
    "    psychotherapy = \"Are you currently receiving psychotherapy treatment?\"\n",
    "    purge = \"Have you purged or forced yourself to vomit in order to lose weight within the last 12 months?\"\n",
    "    frequency = \"How frequently have you purged or vomited to lose weight over the last 3 months?\"\n",
    "    mental = \"Have you been diagnosed with a mental health condition?\"\n",
    "    condition = \"Have you been diagnosed with any of the following?\"\n",
    "    medication = \"Are you currently taking any mental health medication\"\n",
    "    medlist = \"Please list the mental health medication\"\n",
    "    suicidal = \"Do you currently have any desire to harm yourself or others?\"\n",
    "    suicide_disclosure = \"If you are experiencing suicidal thoughts and need to speak to someone\"\n",
    "    chronic = \"Do you have any medical conditions or chronic diseases?\"\n",
    "    kidney = \"Do you have a history of any of the following?\"\n",
    "    other = \"Are there any other medical conditions you haven't shared with us already?\"\n",
    "    familymed = \"Have you or a family member ever been diagnosed with any of the following conditions?\"\n",
    "    cardiac = \"Has anyone in your family under the age of 65 passed away unexpectedly due to a possible cardiac event?\"\n",
    "    surgery = \"Have you had any surgeries or medical procedures?\"\n",
    "    glp1 = \"Are you currently or have you ever taken a GLP-1 medication?\"\n",
    "    glp1med = \"Which GLP-1 medication\"\n",
    "    glp1last = \"When did you last use\"\n",
    "    glp1dose = \"What was your last dose of\"\n",
    "    effects = \"Did you experience any severe side effects when initially increasing your GLP-1 dose?\"\n",
    "    glp1side = \"What side effects did you experience?\"\n",
    "    supplements = \"Do you currently take any medications or supplements?\"\n",
    "    allergies = \"Do you have any allergies?\"\n",
    "    allergy = \"Please list what you are allergic to\"\n",
    "    alcohol = \"alcoholic drinks in one occasion\"\n",
    "    drug = \"Have you taken any of the following recreational drugs\"\n",
    "    opioid = \"Have you taken any opiates/opioids, such as heroin\"\n",
    "    naltrexone = \"Naltrexone works by blocking the effects of opioids\"\n",
    "    cannabis = \"It is recommended to avoid using cannabis while taking your medication\"\n",
    "    nicotine = \"Are you currently using any nicotine replacement products\"\n",
    "    nic_disclosure = \"Using nicotine replacement products while taking\"\n",
    "    bp = \"healthcare provider checked your blood pressure\"\n",
    "    resting = \"average resting heart rate\"\n",
    "    medsides = \"Do you tend to get side effects from new medication\"\n",
    "    nausea = \"rate how you feel about potentially experiencing nausea\"\n",
    "    otherprods = \"is there another area of your health you’d like to improve\"\n",
    "    ethnicity = \"describe your ethnicity\"\n",
    "    target = \"What is your goal weight?\"\n",
    "    most = \"Is your current weight the most you have ever weighed?\"\n",
    "    anything = \"Is there anything else you want a licensed provider to know\"\n",
    "    shortage = \"due to supply shortages\"\n",
    "    denial = \"not a candidate for treatment through our platform\"\n",
    "    bmi = \"Medication may be a good fit\"\n",
    "    preview = \"preview your treatment\"\n",
    "    \n",
    "    named_pages = [sex, pregnant, identity, gender, breastfeeding, disorder, diagnosis, remission, be_aware, psychotherapy, purge, frequency, mental, condition, medication, medlist, suicidal, suicide_disclosure, chronic, kidney, other, familymed, cardiac, surgery, glp1, glp1med, glp1last, glp1dose, effects, glp1side, supplements, allergies, allergy, alcohol, drug, opioid, naltrexone, cannabis, nicotine, nic_disclosure, bp]\n",
    "    \n",
    "    ## clicking next on a page without h2 header\n",
    "    if await page.locator('//*[@id=\"root\"]/div/div/div/div/div/article/div/div/div/p').is_visible():\n",
    "        await click_next()\n",
    "\n",
    "    if page.url == final_rec:\n",
    "        await get_recommendation()\n",
    "    \n",
    "    ## identifying the current page by url and performing the correct function\n",
    "    if page.url in numbered_pages:\n",
    "        if page.url == page1:\n",
    "            await click_continue()\n",
    "        elif page.url == page2:\n",
    "            await loss_goal(patient_info['goal'])\n",
    "        elif page.url == page3:\n",
    "            await click_next()\n",
    "        elif page.url == page4:\n",
    "            await weight_programs(patient_info['diet_number'])\n",
    "        elif page.url == page5:\n",
    "            await click_next()\n",
    "        elif page.url == page6:\n",
    "            await select_state(patient_info['state'])\n",
    "        elif page.url == page7:\n",
    "            await fill_birthday(patient_info['dob'])\n",
    "        elif page.url == page8:\n",
    "            await click_next()\n",
    "        elif page.url == page9:\n",
    "            await family_struggles(patient_info['family_history'])\n",
    "        elif page.url == page10:\n",
    "            await click_next()\n",
    "        elif page.url == page11:\n",
    "            await daily_stress(patient_info['stress'])\n",
    "        elif page.url == page12:\n",
    "            await nightly_sleep(patient_info['sleep'])\n",
    "        elif page.url == page13:\n",
    "            await click_next()\n",
    "        elif page.url == page14:\n",
    "            await weight_place(patient_info['area'])\n",
    "        elif page.url == page15:\n",
    "            await click_next()\n",
    "        elif page.url == page17:\n",
    "            await eating_habit(patient_info['habit'])\n",
    "        elif page.url == page18:\n",
    "            await other_focus(patient_info['focus'])\n",
    "        elif page.url == page19:\n",
    "            await goal_meaning(patient_info['meaning'])\n",
    "        elif page.url == page20:\n",
    "            await enter_email()\n",
    "            await enter_password()\n",
    "        elif page.url == page21:\n",
    "            await click_next()\n",
    "        elif page.url == page22:\n",
    "            await enter_height(patient_info['feet'], patient_info['inches'])\n",
    "            await enter_weight(patient_info['pounds'])\n",
    "            await click_next()\n",
    "        elif page.url == page24:\n",
    "            await most_weighed(patient_info['most'])\n",
    "        elif page.url == page25:\n",
    "            await click_continue()\n",
    "        elif page.url == page26:\n",
    "            await click_next()\n",
    "        elif page.url == page27:\n",
    "            await click_next()\n",
    "        elif page.url == page28:\n",
    "            await click_next()\n",
    "    \n",
    "    else:\n",
    "        ## identifying the current page's h2 headline and performing the correct function\n",
    "        page_headline = await page.inner_html('h2')\n",
    "        if page_headline == pregnant:\n",
    "            await pregnant_status(patient_info['pregnant'])\n",
    "        elif crave_type in page_headline:\n",
    "            await craving_type(patient_info['craving'])\n",
    "        elif crave_freq in page_headline:\n",
    "            await craving_frequency(patient_info['crave_freq'])\n",
    "        elif page_headline == sex:\n",
    "            await birth_sex(patient_info['sex'])\n",
    "        elif page_headline == identity:\n",
    "            await male_identity(patient_info['identity'])\n",
    "        elif page_headline == gender:\n",
    "            await gender_choice(patient_info['gender'])\n",
    "        elif page_headline == breastfeeding:\n",
    "            await bf_status(patient_info['breastfeeding'])\n",
    "        elif page_headline == disorder:\n",
    "            await eating_disorder(patient_info['disorder'])\n",
    "        elif page_headline == diagnosis:\n",
    "            await disorder_diagnosis(patient_info['diagnosis'])\n",
    "        elif page_headline == remission:\n",
    "            await remission_choice(patient_info['remission'])\n",
    "        elif page_headline == be_aware:\n",
    "            await purge_disclosure()\n",
    "        elif page_headline == psychotherapy:\n",
    "            await psycotherapy_choice(patient_info['psycotherapy'])\n",
    "        elif page_headline == purge:\n",
    "            await purge_choice(patient_info['purge'])\n",
    "        elif page_headline == frequency:\n",
    "            await purge_frequency(patient_info['frequency'])\n",
    "        elif page_headline == mental:\n",
    "            await mental_diagnosis(patient_info['mental'])\n",
    "        elif page_headline == condition:\n",
    "            try:\n",
    "                await mental_condition(patient_info['condition'])\n",
    "            except:\n",
    "                await medical_condition(patient_info['medical'])\n",
    "        elif medication in page_headline:\n",
    "            await mental_medication(patient_info['medication'])\n",
    "        elif medlist in page_headline:\n",
    "            await choose_med(patient_info['medlist'])\n",
    "        elif page_headline == suicidal:\n",
    "            await suicidal_choice(patient_info['suicidal'])\n",
    "        elif suicide_disclosure in page_headline:\n",
    "            await suicide_disclosure()\n",
    "        elif page_headline == chronic:\n",
    "            await chronic_choice(patient_info['chronic'])\n",
    "        elif page_headline == kidney:\n",
    "            await kidney_choice(patient_info['kidney'])\n",
    "        elif page_headline == other:\n",
    "            await medical_other(patient_info['other'])\n",
    "        elif page_headline == familymed:\n",
    "            await family_medical(patient_info['familymed'])\n",
    "        elif page_headline == cardiac:\n",
    "            await cardiac_history(patient_info['cardiac'])\n",
    "        elif page_headline == surgery:\n",
    "            await surgery_history(patient_info['cardiac'])\n",
    "        elif page_headline == glp1:\n",
    "            await glp1_history(patient_info['glp1'])\n",
    "        elif glp1med in page_headline:\n",
    "            await glp1_med(patient_info['glp1med'])\n",
    "        elif glp1last in page_headline:\n",
    "            await glp1_last(patient_info['glp1last'])\n",
    "        elif glp1dose in page_headline:\n",
    "            await glp1_dose(patient_info['glp1dose'])\n",
    "        elif page_headline == effects:\n",
    "            await glp1_effects(patient_info['effects'])\n",
    "        elif page_headline == glp1side:\n",
    "            await glp1_side(patient_info['glp1side'])\n",
    "        elif page_headline == supplements:\n",
    "            await supplements_choice(patient_info['supplements'])\n",
    "        elif allergies in page_headline:\n",
    "            await allergies_choice(patient_info['allergies'])\n",
    "        elif allergy in page_headline:\n",
    "            await allergy_list(patient_info['allergy'])\n",
    "        elif alcohol in page_headline:\n",
    "            await alcohol_choice(patient_info['alcohol'])\n",
    "        elif drug in page_headline:\n",
    "            await drug_choice(patient_info['drug'])\n",
    "        elif opioid in page_headline:\n",
    "            await opioid_choice(patient_info['opioid'])\n",
    "        elif naltrexone in page_headline:\n",
    "            await naltrexone_disclosure()\n",
    "        elif cannabis in page_headline:\n",
    "            await cannabis_disclosure()\n",
    "        elif nicotine in page_headline:\n",
    "            await nicotine_choice(patient_info['nicotine'])\n",
    "        elif nic_disclosure in page_headline:\n",
    "            await nicotine_disclosure()\n",
    "        elif bp in page_headline:\n",
    "            await bp_choice(patient_info['bp'])\n",
    "        elif resting in page_headline:\n",
    "            await resting_rate(patient_info['resting'])\n",
    "        elif medsides in page_headline:\n",
    "            await med_sides(patient_info['medsides'])\n",
    "        elif nausea in page_headline:\n",
    "            await nausea_rating(patient_info['nausea'])\n",
    "        elif otherprods in page_headline:\n",
    "            await other_products()\n",
    "        elif ethnicity in page_headline:\n",
    "            await ethnicity_choice(patient_info['ethnicity'])\n",
    "        elif page_headline == target:\n",
    "            await target_weight(patient_info['target'])\n",
    "        elif page_headline == most:\n",
    "            await most_weighed(patient_info['most'])\n",
    "        elif anything in page_headline:\n",
    "            await anything_else();\n",
    "        elif shortage in page_headline:\n",
    "            await glp1_shortage()\n",
    "        elif denial in page_headline:\n",
    "            patient_info['result'] = 'Denied'\n",
    "        elif bmi in page_headline:\n",
    "            await get_bmi()\n",
    "        elif preview in page_headline:\n",
    "            await click_next()\n",
    "        elif bplevel in await page.inner_html('//*[@id=\"Question-bp_top_bottom_separate\"]/div/div/div/div[1]/div/p'):\n",
    "            await bp_level(patient_info['bptop'], patient_info['bpbottom'])\n",
    "        \n",
    "    \n",
    "        \n",
    "        "
   ]
  },
  {
   "cell_type": "code",
   "execution_count": 165,
   "id": "fde97f5e-95e6-4052-93a5-6206e145eabe",
   "metadata": {},
   "outputs": [],
   "source": [
    "## The final executable function that fills out the form\n",
    "\n",
    "async def hims_search(patient_info):\n",
    "\n",
    "    ## go to hims weight loss questionnaire \n",
    "    url = 'https://www.hims.com/c/wm/introduction'\n",
    "    await page.goto(url)\n",
    "    await asyncio.sleep(8)\n",
    "\n",
    "    while page.url not in ['https://www.hims.com/c/wm/check-eligibility', 'https://www.hims.com/c/wm/recommended-product']:\n",
    "        await find_page(patient_info)\n",
    "        await asyncio.sleep(1)\n",
    "    \n",
    "    if page.url == 'https://www.hims.com/c/wm/recommended-product':\n",
    "        await get_recommendation()\n",
    "        \n",
    "    if page.url == 'https://www.hims.com/c/wm/check-eligibility':\n",
    "        await find_page(patient_info)\n",
    "       \n",
    "  \n"
   ]
  },
  {
   "cell_type": "markdown",
   "id": "754a1bfd-a547-4a26-9acd-fdbc6426b49d",
   "metadata": {},
   "source": [
    "## Execute the scraper"
   ]
  },
  {
   "cell_type": "code",
   "execution_count": 159,
   "id": "570244e5-9565-4bfd-9a16-cf361d99b4e0",
   "metadata": {},
   "outputs": [],
   "source": [
    "## Open the headful Playwright browser\n",
    "\n",
    "driver, page = await open_browser()"
   ]
  },
  {
   "cell_type": "code",
   "execution_count": null,
   "id": "c8cd6454-16c1-4c38-8c19-c5206a2a5722",
   "metadata": {},
   "outputs": [],
   "source": [
    "## Run the scraper\n",
    "\n",
    "await hims_search(patient_info)"
   ]
  },
  {
   "cell_type": "code",
   "execution_count": 158,
   "id": "f32f3c6f-a3e3-4ba2-b828-59643f4036b7",
   "metadata": {},
   "outputs": [],
   "source": [
    "## Close the headful browser\n",
    "\n",
    "await driver.close()"
   ]
  },
  {
   "cell_type": "code",
   "execution_count": null,
   "id": "aa67a76d-8b6f-4274-a238-e57120baae64",
   "metadata": {},
   "outputs": [],
   "source": []
  }
 ],
 "metadata": {
  "kernelspec": {
   "display_name": "Python 3 (ipykernel)",
   "language": "python",
   "name": "python3"
  },
  "language_info": {
   "codemirror_mode": {
    "name": "ipython",
    "version": 3
   },
   "file_extension": ".py",
   "mimetype": "text/x-python",
   "name": "python",
   "nbconvert_exporter": "python",
   "pygments_lexer": "ipython3",
   "version": "3.11.9"
  }
 },
 "nbformat": 4,
 "nbformat_minor": 5
}
